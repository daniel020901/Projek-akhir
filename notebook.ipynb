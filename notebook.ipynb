{
 "cells": [
  {
   "cell_type": "markdown",
   "id": "f920dd67-bfc3-4c04-bff8-044e29e29d78",
   "metadata": {},
   "source": [
    "# **Proyek Analisis Data: [E-Commerce Public Dataset]**<br>\n",
    "Nama: Muhammad Daniel Ilyasa<br>\n",
    "Email: muhammaddanielilyasa@gmail.com<br>\n",
    "ID Dicoding: https://www.dicoding.com/users/daniel_ilyasa_ir3k"
   ]
  },
  {
   "cell_type": "markdown",
   "id": "4aa0b5c0-bb46-438f-884f-5ad880de66bb",
   "metadata": {},
   "source": [
    "## **Menentukan Pertanyaan Bisnis:** <br>\n",
    "### 1. Apakah ada perbedaan rata-rata keterlambatan pengiriman antar kota? Kota mana yang paling sering mengalami keterlambatan pengiriman?\n",
    "### 2. Berapa banyak pesanan yang terlambat dibandingkan dengan perkiraan waktu pengiriman? Apakah ada pola tertentu terkait keterlambatan ini berdasarkan waktu atau kota?"
   ]
  },
  {
   "cell_type": "markdown",
   "id": "f5aec118-a2c8-442d-9814-029d1c6d268c",
   "metadata": {},
   "source": [
    "import module"
   ]
  },
  {
   "cell_type": "code",
   "execution_count": 99,
   "id": "e6973652-40a7-4bd9-8f69-cdb914101cd1",
   "metadata": {},
   "outputs": [],
   "source": [
    "import numpy as np\n",
    "import pandas as pd\n",
    "import matplotlib.pyplot as plt\n",
    "import seaborn as sns\n"
   ]
  },
  {
   "cell_type": "markdown",
   "id": "32999f49-4673-4e6e-a6f1-cf763b488e84",
   "metadata": {},
   "source": [
    "## 1. Data wrangling"
   ]
  },
  {
   "cell_type": "markdown",
   "id": "9ebbf044-9491-40a9-8629-ef137329946c",
   "metadata": {},
   "source": [
    "**- Gathering Data**"
   ]
  },
  {
   "cell_type": "code",
   "execution_count": 2,
   "id": "304c4957-81d7-4efe-87fd-41a5d6481ef2",
   "metadata": {},
   "outputs": [
    {
     "data": {
      "text/html": [
       "<div>\n",
       "<style scoped>\n",
       "    .dataframe tbody tr th:only-of-type {\n",
       "        vertical-align: middle;\n",
       "    }\n",
       "\n",
       "    .dataframe tbody tr th {\n",
       "        vertical-align: top;\n",
       "    }\n",
       "\n",
       "    .dataframe thead th {\n",
       "        text-align: right;\n",
       "    }\n",
       "</style>\n",
       "<table border=\"1\" class=\"dataframe\">\n",
       "  <thead>\n",
       "    <tr style=\"text-align: right;\">\n",
       "      <th></th>\n",
       "      <th>customer_id</th>\n",
       "      <th>customer_unique_id</th>\n",
       "      <th>customer_zip_code_prefix</th>\n",
       "      <th>customer_city</th>\n",
       "      <th>customer_state</th>\n",
       "    </tr>\n",
       "  </thead>\n",
       "  <tbody>\n",
       "    <tr>\n",
       "      <th>0</th>\n",
       "      <td>06b8999e2fba1a1fbc88172c00ba8bc7</td>\n",
       "      <td>861eff4711a542e4b93843c6dd7febb0</td>\n",
       "      <td>14409</td>\n",
       "      <td>franca</td>\n",
       "      <td>SP</td>\n",
       "    </tr>\n",
       "    <tr>\n",
       "      <th>1</th>\n",
       "      <td>18955e83d337fd6b2def6b18a428ac77</td>\n",
       "      <td>290c77bc529b7ac935b93aa66c333dc3</td>\n",
       "      <td>9790</td>\n",
       "      <td>sao bernardo do campo</td>\n",
       "      <td>SP</td>\n",
       "    </tr>\n",
       "    <tr>\n",
       "      <th>2</th>\n",
       "      <td>4e7b3e00288586ebd08712fdd0374a03</td>\n",
       "      <td>060e732b5b29e8181a18229c7b0b2b5e</td>\n",
       "      <td>1151</td>\n",
       "      <td>sao paulo</td>\n",
       "      <td>SP</td>\n",
       "    </tr>\n",
       "    <tr>\n",
       "      <th>3</th>\n",
       "      <td>b2b6027bc5c5109e529d4dc6358b12c3</td>\n",
       "      <td>259dac757896d24d7702b9acbbff3f3c</td>\n",
       "      <td>8775</td>\n",
       "      <td>mogi das cruzes</td>\n",
       "      <td>SP</td>\n",
       "    </tr>\n",
       "    <tr>\n",
       "      <th>4</th>\n",
       "      <td>4f2d8ab171c80ec8364f7c12e35b23ad</td>\n",
       "      <td>345ecd01c38d18a9036ed96c73b8d066</td>\n",
       "      <td>13056</td>\n",
       "      <td>campinas</td>\n",
       "      <td>SP</td>\n",
       "    </tr>\n",
       "  </tbody>\n",
       "</table>\n",
       "</div>"
      ],
      "text/plain": [
       "                        customer_id                customer_unique_id  \\\n",
       "0  06b8999e2fba1a1fbc88172c00ba8bc7  861eff4711a542e4b93843c6dd7febb0   \n",
       "1  18955e83d337fd6b2def6b18a428ac77  290c77bc529b7ac935b93aa66c333dc3   \n",
       "2  4e7b3e00288586ebd08712fdd0374a03  060e732b5b29e8181a18229c7b0b2b5e   \n",
       "3  b2b6027bc5c5109e529d4dc6358b12c3  259dac757896d24d7702b9acbbff3f3c   \n",
       "4  4f2d8ab171c80ec8364f7c12e35b23ad  345ecd01c38d18a9036ed96c73b8d066   \n",
       "\n",
       "   customer_zip_code_prefix          customer_city customer_state  \n",
       "0                     14409                 franca             SP  \n",
       "1                      9790  sao bernardo do campo             SP  \n",
       "2                      1151              sao paulo             SP  \n",
       "3                      8775        mogi das cruzes             SP  \n",
       "4                     13056               campinas             SP  "
      ]
     },
     "execution_count": 2,
     "metadata": {},
     "output_type": "execute_result"
    }
   ],
   "source": [
    "customers_df = pd.read_csv(\"Data/customers_dataset.csv\")\n",
    "customers_df.head()"
   ]
  },
  {
   "cell_type": "code",
   "execution_count": 3,
   "id": "312f76a6-6b69-44ef-a55b-f502aca0018b",
   "metadata": {},
   "outputs": [
    {
     "data": {
      "text/html": [
       "<div>\n",
       "<style scoped>\n",
       "    .dataframe tbody tr th:only-of-type {\n",
       "        vertical-align: middle;\n",
       "    }\n",
       "\n",
       "    .dataframe tbody tr th {\n",
       "        vertical-align: top;\n",
       "    }\n",
       "\n",
       "    .dataframe thead th {\n",
       "        text-align: right;\n",
       "    }\n",
       "</style>\n",
       "<table border=\"1\" class=\"dataframe\">\n",
       "  <thead>\n",
       "    <tr style=\"text-align: right;\">\n",
       "      <th></th>\n",
       "      <th>order_id</th>\n",
       "      <th>customer_id</th>\n",
       "      <th>order_status</th>\n",
       "      <th>order_purchase_timestamp</th>\n",
       "      <th>order_approved_at</th>\n",
       "      <th>order_delivered_carrier_date</th>\n",
       "      <th>order_delivered_customer_date</th>\n",
       "      <th>order_estimated_delivery_date</th>\n",
       "    </tr>\n",
       "  </thead>\n",
       "  <tbody>\n",
       "    <tr>\n",
       "      <th>0</th>\n",
       "      <td>e481f51cbdc54678b7cc49136f2d6af7</td>\n",
       "      <td>9ef432eb6251297304e76186b10a928d</td>\n",
       "      <td>delivered</td>\n",
       "      <td>2017-10-02 10:56:33</td>\n",
       "      <td>2017-10-02 11:07:15</td>\n",
       "      <td>2017-10-04 19:55:00</td>\n",
       "      <td>2017-10-10 21:25:13</td>\n",
       "      <td>2017-10-18 00:00:00</td>\n",
       "    </tr>\n",
       "    <tr>\n",
       "      <th>1</th>\n",
       "      <td>53cdb2fc8bc7dce0b6741e2150273451</td>\n",
       "      <td>b0830fb4747a6c6d20dea0b8c802d7ef</td>\n",
       "      <td>delivered</td>\n",
       "      <td>2018-07-24 20:41:37</td>\n",
       "      <td>2018-07-26 03:24:27</td>\n",
       "      <td>2018-07-26 14:31:00</td>\n",
       "      <td>2018-08-07 15:27:45</td>\n",
       "      <td>2018-08-13 00:00:00</td>\n",
       "    </tr>\n",
       "    <tr>\n",
       "      <th>2</th>\n",
       "      <td>47770eb9100c2d0c44946d9cf07ec65d</td>\n",
       "      <td>41ce2a54c0b03bf3443c3d931a367089</td>\n",
       "      <td>delivered</td>\n",
       "      <td>2018-08-08 08:38:49</td>\n",
       "      <td>2018-08-08 08:55:23</td>\n",
       "      <td>2018-08-08 13:50:00</td>\n",
       "      <td>2018-08-17 18:06:29</td>\n",
       "      <td>2018-09-04 00:00:00</td>\n",
       "    </tr>\n",
       "    <tr>\n",
       "      <th>3</th>\n",
       "      <td>949d5b44dbf5de918fe9c16f97b45f8a</td>\n",
       "      <td>f88197465ea7920adcdbec7375364d82</td>\n",
       "      <td>delivered</td>\n",
       "      <td>2017-11-18 19:28:06</td>\n",
       "      <td>2017-11-18 19:45:59</td>\n",
       "      <td>2017-11-22 13:39:59</td>\n",
       "      <td>2017-12-02 00:28:42</td>\n",
       "      <td>2017-12-15 00:00:00</td>\n",
       "    </tr>\n",
       "    <tr>\n",
       "      <th>4</th>\n",
       "      <td>ad21c59c0840e6cb83a9ceb5573f8159</td>\n",
       "      <td>8ab97904e6daea8866dbdbc4fb7aad2c</td>\n",
       "      <td>delivered</td>\n",
       "      <td>2018-02-13 21:18:39</td>\n",
       "      <td>2018-02-13 22:20:29</td>\n",
       "      <td>2018-02-14 19:46:34</td>\n",
       "      <td>2018-02-16 18:17:02</td>\n",
       "      <td>2018-02-26 00:00:00</td>\n",
       "    </tr>\n",
       "  </tbody>\n",
       "</table>\n",
       "</div>"
      ],
      "text/plain": [
       "                           order_id                       customer_id  \\\n",
       "0  e481f51cbdc54678b7cc49136f2d6af7  9ef432eb6251297304e76186b10a928d   \n",
       "1  53cdb2fc8bc7dce0b6741e2150273451  b0830fb4747a6c6d20dea0b8c802d7ef   \n",
       "2  47770eb9100c2d0c44946d9cf07ec65d  41ce2a54c0b03bf3443c3d931a367089   \n",
       "3  949d5b44dbf5de918fe9c16f97b45f8a  f88197465ea7920adcdbec7375364d82   \n",
       "4  ad21c59c0840e6cb83a9ceb5573f8159  8ab97904e6daea8866dbdbc4fb7aad2c   \n",
       "\n",
       "  order_status order_purchase_timestamp    order_approved_at  \\\n",
       "0    delivered      2017-10-02 10:56:33  2017-10-02 11:07:15   \n",
       "1    delivered      2018-07-24 20:41:37  2018-07-26 03:24:27   \n",
       "2    delivered      2018-08-08 08:38:49  2018-08-08 08:55:23   \n",
       "3    delivered      2017-11-18 19:28:06  2017-11-18 19:45:59   \n",
       "4    delivered      2018-02-13 21:18:39  2018-02-13 22:20:29   \n",
       "\n",
       "  order_delivered_carrier_date order_delivered_customer_date  \\\n",
       "0          2017-10-04 19:55:00           2017-10-10 21:25:13   \n",
       "1          2018-07-26 14:31:00           2018-08-07 15:27:45   \n",
       "2          2018-08-08 13:50:00           2018-08-17 18:06:29   \n",
       "3          2017-11-22 13:39:59           2017-12-02 00:28:42   \n",
       "4          2018-02-14 19:46:34           2018-02-16 18:17:02   \n",
       "\n",
       "  order_estimated_delivery_date  \n",
       "0           2017-10-18 00:00:00  \n",
       "1           2018-08-13 00:00:00  \n",
       "2           2018-09-04 00:00:00  \n",
       "3           2017-12-15 00:00:00  \n",
       "4           2018-02-26 00:00:00  "
      ]
     },
     "execution_count": 3,
     "metadata": {},
     "output_type": "execute_result"
    }
   ],
   "source": [
    "orders_df = pd.read_csv(\"Data/orders_dataset.csv\")\n",
    "orders_df.head()"
   ]
  },
  {
   "cell_type": "markdown",
   "id": "3cf86aab-64ce-4a33-be1a-564eb49afaff",
   "metadata": {},
   "source": [
    "**- Assessing Data**"
   ]
  },
  {
   "cell_type": "markdown",
   "id": "6dff7a6e-5cfe-4fc3-8f52-fc09ad617f2b",
   "metadata": {},
   "source": [
    "- Menilai tabel customers_df"
   ]
  },
  {
   "cell_type": "code",
   "execution_count": 4,
   "id": "659595b3-b1e3-4914-bfc7-57c23e3b0259",
   "metadata": {},
   "outputs": [
    {
     "name": "stdout",
     "output_type": "stream",
     "text": [
      "<class 'pandas.core.frame.DataFrame'>\n",
      "RangeIndex: 99441 entries, 0 to 99440\n",
      "Data columns (total 5 columns):\n",
      " #   Column                    Non-Null Count  Dtype \n",
      "---  ------                    --------------  ----- \n",
      " 0   customer_id               99441 non-null  object\n",
      " 1   customer_unique_id        99441 non-null  object\n",
      " 2   customer_zip_code_prefix  99441 non-null  int64 \n",
      " 3   customer_city             99441 non-null  object\n",
      " 4   customer_state            99441 non-null  object\n",
      "dtypes: int64(1), object(4)\n",
      "memory usage: 3.8+ MB\n"
     ]
    }
   ],
   "source": [
    "customers_df.info()"
   ]
  },
  {
   "cell_type": "code",
   "execution_count": 5,
   "id": "a0d75931-b7e7-40ef-8e6e-b036b3fec50e",
   "metadata": {},
   "outputs": [
    {
     "data": {
      "text/plain": [
       "customer_id                 0\n",
       "customer_unique_id          0\n",
       "customer_zip_code_prefix    0\n",
       "customer_city               0\n",
       "customer_state              0\n",
       "dtype: int64"
      ]
     },
     "execution_count": 5,
     "metadata": {},
     "output_type": "execute_result"
    }
   ],
   "source": [
    "customers_df.isna().sum()"
   ]
  },
  {
   "cell_type": "code",
   "execution_count": 6,
   "id": "c90412e6-e99a-4303-acec-b8246adfc9be",
   "metadata": {},
   "outputs": [
    {
     "name": "stdout",
     "output_type": "stream",
     "text": [
      "jumlah duplikasi:  0\n"
     ]
    }
   ],
   "source": [
    "print(\"jumlah duplikasi: \",customers_df.duplicated().sum())"
   ]
  },
  {
   "cell_type": "code",
   "execution_count": 7,
   "id": "a89d5cba-99a1-4e06-9085-a4845757f888",
   "metadata": {},
   "outputs": [
    {
     "data": {
      "text/html": [
       "<div>\n",
       "<style scoped>\n",
       "    .dataframe tbody tr th:only-of-type {\n",
       "        vertical-align: middle;\n",
       "    }\n",
       "\n",
       "    .dataframe tbody tr th {\n",
       "        vertical-align: top;\n",
       "    }\n",
       "\n",
       "    .dataframe thead th {\n",
       "        text-align: right;\n",
       "    }\n",
       "</style>\n",
       "<table border=\"1\" class=\"dataframe\">\n",
       "  <thead>\n",
       "    <tr style=\"text-align: right;\">\n",
       "      <th></th>\n",
       "      <th>customer_zip_code_prefix</th>\n",
       "    </tr>\n",
       "  </thead>\n",
       "  <tbody>\n",
       "    <tr>\n",
       "      <th>count</th>\n",
       "      <td>99441.000000</td>\n",
       "    </tr>\n",
       "    <tr>\n",
       "      <th>mean</th>\n",
       "      <td>35137.474583</td>\n",
       "    </tr>\n",
       "    <tr>\n",
       "      <th>std</th>\n",
       "      <td>29797.938996</td>\n",
       "    </tr>\n",
       "    <tr>\n",
       "      <th>min</th>\n",
       "      <td>1003.000000</td>\n",
       "    </tr>\n",
       "    <tr>\n",
       "      <th>25%</th>\n",
       "      <td>11347.000000</td>\n",
       "    </tr>\n",
       "    <tr>\n",
       "      <th>50%</th>\n",
       "      <td>24416.000000</td>\n",
       "    </tr>\n",
       "    <tr>\n",
       "      <th>75%</th>\n",
       "      <td>58900.000000</td>\n",
       "    </tr>\n",
       "    <tr>\n",
       "      <th>max</th>\n",
       "      <td>99990.000000</td>\n",
       "    </tr>\n",
       "  </tbody>\n",
       "</table>\n",
       "</div>"
      ],
      "text/plain": [
       "       customer_zip_code_prefix\n",
       "count              99441.000000\n",
       "mean               35137.474583\n",
       "std                29797.938996\n",
       "min                 1003.000000\n",
       "25%                11347.000000\n",
       "50%                24416.000000\n",
       "75%                58900.000000\n",
       "max                99990.000000"
      ]
     },
     "execution_count": 7,
     "metadata": {},
     "output_type": "execute_result"
    }
   ],
   "source": [
    "customers_df.describe()"
   ]
  },
  {
   "cell_type": "markdown",
   "id": "4bea6f2d-c79e-41be-8fb5-5009ef104b49",
   "metadata": {},
   "source": [
    "Menilai tabel orders_df"
   ]
  },
  {
   "cell_type": "code",
   "execution_count": 8,
   "id": "8ce5c73e-0a51-428f-ad09-f95c0e61de37",
   "metadata": {},
   "outputs": [
    {
     "name": "stdout",
     "output_type": "stream",
     "text": [
      "<class 'pandas.core.frame.DataFrame'>\n",
      "RangeIndex: 99441 entries, 0 to 99440\n",
      "Data columns (total 8 columns):\n",
      " #   Column                         Non-Null Count  Dtype \n",
      "---  ------                         --------------  ----- \n",
      " 0   order_id                       99441 non-null  object\n",
      " 1   customer_id                    99441 non-null  object\n",
      " 2   order_status                   99441 non-null  object\n",
      " 3   order_purchase_timestamp       99441 non-null  object\n",
      " 4   order_approved_at              99281 non-null  object\n",
      " 5   order_delivered_carrier_date   97658 non-null  object\n",
      " 6   order_delivered_customer_date  96476 non-null  object\n",
      " 7   order_estimated_delivery_date  99441 non-null  object\n",
      "dtypes: object(8)\n",
      "memory usage: 6.1+ MB\n"
     ]
    }
   ],
   "source": [
    "orders_df.info()"
   ]
  },
  {
   "cell_type": "code",
   "execution_count": 9,
   "id": "59860f14-19c6-4016-973a-7488e948d2ab",
   "metadata": {},
   "outputs": [
    {
     "data": {
      "text/plain": [
       "order_id                            0\n",
       "customer_id                         0\n",
       "order_status                        0\n",
       "order_purchase_timestamp            0\n",
       "order_approved_at                 160\n",
       "order_delivered_carrier_date     1783\n",
       "order_delivered_customer_date    2965\n",
       "order_estimated_delivery_date       0\n",
       "dtype: int64"
      ]
     },
     "execution_count": 9,
     "metadata": {},
     "output_type": "execute_result"
    }
   ],
   "source": [
    "orders_df.isna().sum()"
   ]
  },
  {
   "cell_type": "code",
   "execution_count": 10,
   "id": "d54003d5-14a4-4d50-9144-3921052da760",
   "metadata": {
    "scrolled": true
   },
   "outputs": [
    {
     "name": "stdout",
     "output_type": "stream",
     "text": [
      "Jumlah duplikasi:  0\n"
     ]
    },
    {
     "data": {
      "text/html": [
       "<div>\n",
       "<style scoped>\n",
       "    .dataframe tbody tr th:only-of-type {\n",
       "        vertical-align: middle;\n",
       "    }\n",
       "\n",
       "    .dataframe tbody tr th {\n",
       "        vertical-align: top;\n",
       "    }\n",
       "\n",
       "    .dataframe thead th {\n",
       "        text-align: right;\n",
       "    }\n",
       "</style>\n",
       "<table border=\"1\" class=\"dataframe\">\n",
       "  <thead>\n",
       "    <tr style=\"text-align: right;\">\n",
       "      <th></th>\n",
       "      <th>order_id</th>\n",
       "      <th>customer_id</th>\n",
       "      <th>order_status</th>\n",
       "      <th>order_purchase_timestamp</th>\n",
       "      <th>order_approved_at</th>\n",
       "      <th>order_delivered_carrier_date</th>\n",
       "      <th>order_delivered_customer_date</th>\n",
       "      <th>order_estimated_delivery_date</th>\n",
       "    </tr>\n",
       "  </thead>\n",
       "  <tbody>\n",
       "    <tr>\n",
       "      <th>count</th>\n",
       "      <td>99441</td>\n",
       "      <td>99441</td>\n",
       "      <td>99441</td>\n",
       "      <td>99441</td>\n",
       "      <td>99281</td>\n",
       "      <td>97658</td>\n",
       "      <td>96476</td>\n",
       "      <td>99441</td>\n",
       "    </tr>\n",
       "    <tr>\n",
       "      <th>unique</th>\n",
       "      <td>99441</td>\n",
       "      <td>99441</td>\n",
       "      <td>8</td>\n",
       "      <td>98875</td>\n",
       "      <td>90733</td>\n",
       "      <td>81018</td>\n",
       "      <td>95664</td>\n",
       "      <td>459</td>\n",
       "    </tr>\n",
       "    <tr>\n",
       "      <th>top</th>\n",
       "      <td>66dea50a8b16d9b4dee7af250b4be1a5</td>\n",
       "      <td>edb027a75a1449115f6b43211ae02a24</td>\n",
       "      <td>delivered</td>\n",
       "      <td>2018-08-02 12:05:26</td>\n",
       "      <td>2018-02-27 04:31:10</td>\n",
       "      <td>2018-05-09 15:48:00</td>\n",
       "      <td>2018-05-08 19:36:48</td>\n",
       "      <td>2017-12-20 00:00:00</td>\n",
       "    </tr>\n",
       "    <tr>\n",
       "      <th>freq</th>\n",
       "      <td>1</td>\n",
       "      <td>1</td>\n",
       "      <td>96478</td>\n",
       "      <td>3</td>\n",
       "      <td>9</td>\n",
       "      <td>47</td>\n",
       "      <td>3</td>\n",
       "      <td>522</td>\n",
       "    </tr>\n",
       "  </tbody>\n",
       "</table>\n",
       "</div>"
      ],
      "text/plain": [
       "                                order_id                       customer_id  \\\n",
       "count                              99441                             99441   \n",
       "unique                             99441                             99441   \n",
       "top     66dea50a8b16d9b4dee7af250b4be1a5  edb027a75a1449115f6b43211ae02a24   \n",
       "freq                                   1                                 1   \n",
       "\n",
       "       order_status order_purchase_timestamp    order_approved_at  \\\n",
       "count         99441                    99441                99281   \n",
       "unique            8                    98875                90733   \n",
       "top       delivered      2018-08-02 12:05:26  2018-02-27 04:31:10   \n",
       "freq          96478                        3                    9   \n",
       "\n",
       "       order_delivered_carrier_date order_delivered_customer_date  \\\n",
       "count                         97658                         96476   \n",
       "unique                        81018                         95664   \n",
       "top             2018-05-09 15:48:00           2018-05-08 19:36:48   \n",
       "freq                             47                             3   \n",
       "\n",
       "       order_estimated_delivery_date  \n",
       "count                          99441  \n",
       "unique                           459  \n",
       "top              2017-12-20 00:00:00  \n",
       "freq                             522  "
      ]
     },
     "execution_count": 10,
     "metadata": {},
     "output_type": "execute_result"
    }
   ],
   "source": [
    "print(\"Jumlah duplikasi: \",orders_df.duplicated().sum())\n",
    "orders_df.describe()"
   ]
  },
  {
   "cell_type": "markdown",
   "id": "775d80ad-fd24-41bf-8bc7-1d244eb4b381",
   "metadata": {},
   "source": [
    "**- Cleaning Data**"
   ]
  },
  {
   "cell_type": "markdown",
   "id": "2af96c07-b74d-46c1-99cd-ac76129d9391",
   "metadata": {},
   "source": [
    " **. Membersihkan tabel customers_df**"
   ]
  },
  {
   "cell_type": "code",
   "execution_count": 11,
   "id": "aa762c65-1017-4e70-b9d2-cfcc02574418",
   "metadata": {},
   "outputs": [
    {
     "data": {
      "text/plain": [
       "np.int64(0)"
      ]
     },
     "execution_count": 11,
     "metadata": {},
     "output_type": "execute_result"
    }
   ],
   "source": [
    "customers_df.duplicated().sum()"
   ]
  },
  {
   "cell_type": "code",
   "execution_count": 12,
   "id": "13dd6576-fd12-4fc7-a82e-bcf3a872e836",
   "metadata": {},
   "outputs": [],
   "source": [
    "customers_df.drop_duplicates(inplace=True)"
   ]
  },
  {
   "cell_type": "code",
   "execution_count": 13,
   "id": "8e593d8a-c124-4302-b4f6-8556ba62f259",
   "metadata": {},
   "outputs": [
    {
     "data": {
      "text/plain": [
       "customer_id                 0\n",
       "customer_unique_id          0\n",
       "customer_zip_code_prefix    0\n",
       "customer_city               0\n",
       "customer_state              0\n",
       "dtype: int64"
      ]
     },
     "execution_count": 13,
     "metadata": {},
     "output_type": "execute_result"
    }
   ],
   "source": [
    "customers_df.isna().sum()"
   ]
  },
  {
   "cell_type": "code",
   "execution_count": 14,
   "id": "e3869256-4670-42e9-bb90-70b6f5eed23d",
   "metadata": {},
   "outputs": [],
   "source": [
    "customers_df['customer_city'] = customers_df['customer_city'].str.title()  # Mengubah nama kota menjadi format Title Case\n",
    "customers_df['customer_state'] = customers_df['customer_state'].str.upper()  # Mengubah nama negara bagian menjadi huruf besar\n"
   ]
  },
  {
   "cell_type": "code",
   "execution_count": 15,
   "id": "e1690115-1098-478e-91d4-6e719e4388ed",
   "metadata": {},
   "outputs": [
    {
     "name": "stdout",
     "output_type": "stream",
     "text": [
      "False\n"
     ]
    }
   ],
   "source": [
    "is_unique = customers_df['customer_unique_id'].is_unique\n",
    "print(is_unique)  # Jika False, ada ID yang tidak unik"
   ]
  },
  {
   "cell_type": "markdown",
   "id": "0b2a4256-788a-4396-bc80-4e04aa143d25",
   "metadata": {},
   "source": [
    "Identifikasi Duplikat Unique_id\n"
   ]
  },
  {
   "cell_type": "code",
   "execution_count": 16,
   "id": "5a47ab91-caef-4224-8242-c535e5782b7e",
   "metadata": {},
   "outputs": [
    {
     "name": "stdout",
     "output_type": "stream",
     "text": [
      "                            customer_id                customer_unique_id  \\\n",
      "5      879864dab9bc3047522c92c82e1212b8  4c93744516667ad3b8f1fb645a3116a4   \n",
      "8      5adf08e34b2e993982a47070956c5c65  1175e95fb47ddff9de6b2b06188f7e0d   \n",
      "13     eabebad39a88bb6f5b52376faec28612  295c05e81917928d76245e842748184d   \n",
      "32     2d5831cb2dff7cdefba62e950ae3dc7b  e9dd12dca17352644a959d9dea133935   \n",
      "33     b2bed119388167a954382cca36c4777f  e079b18794454de9d2be5c12b4392294   \n",
      "...                                 ...                               ...   \n",
      "99324  5b46a0d983eec8c97363bea78d4a69dd  8bab3162259edfaadd1ea2e1fe7f58dc   \n",
      "99327  c1affa46f9f3b514555259049a0307b9  12ab9334b1240d6d037f2b0102a49571   \n",
      "99336  ebf46ff530343a129926adc1f831dea4  0ee57f62666561b72f2ceacad0230cbf   \n",
      "99353  282fbce48e4d2077aad602dd125c9225  0ceb502fc33a2ad327b08288c5310e2e   \n",
      "99406  d9110683c7a282144e9fc97660026a28  5cbfdb85ec130898108b32c50d619c39   \n",
      "\n",
      "       customer_zip_code_prefix         customer_city customer_state  \n",
      "5                         89254        Jaragua Do Sul             SC  \n",
      "8                         81560              Curitiba             PR  \n",
      "13                         5704             Sao Paulo             SP  \n",
      "32                        42800              Camacari             BA  \n",
      "33                        27525               Resende             RJ  \n",
      "...                         ...                   ...            ...  \n",
      "99324                     31565        Belo Horizonte             MG  \n",
      "99327                     38050               Uberaba             MG  \n",
      "99336                      9530    Sao Caetano Do Sul             SP  \n",
      "99353                     29134                 Viana             ES  \n",
      "99406                     74980  Aparecida De Goiania             GO  \n",
      "\n",
      "[6342 rows x 5 columns]\n"
     ]
    }
   ],
   "source": [
    "duplicate_ids = customers_df[customers_df.duplicated('customer_unique_id', keep=False)]\n",
    "print(duplicate_ids)"
   ]
  },
  {
   "cell_type": "markdown",
   "id": "bdd0349d-5923-4e4c-b1ba-908588b985e4",
   "metadata": {},
   "source": [
    "**Analisis duplikat**"
   ]
  },
  {
   "cell_type": "code",
   "execution_count": 17,
   "id": "582974b5-538b-4059-9710-982ffbd7c8bb",
   "metadata": {},
   "outputs": [
    {
     "data": {
      "text/html": [
       "<div>\n",
       "<style scoped>\n",
       "    .dataframe tbody tr th:only-of-type {\n",
       "        vertical-align: middle;\n",
       "    }\n",
       "\n",
       "    .dataframe tbody tr th {\n",
       "        vertical-align: top;\n",
       "    }\n",
       "\n",
       "    .dataframe thead th {\n",
       "        text-align: right;\n",
       "    }\n",
       "</style>\n",
       "<table border=\"1\" class=\"dataframe\">\n",
       "  <thead>\n",
       "    <tr style=\"text-align: right;\">\n",
       "      <th></th>\n",
       "      <th>customer_id</th>\n",
       "      <th>customer_unique_id</th>\n",
       "      <th>customer_zip_code_prefix</th>\n",
       "      <th>customer_city</th>\n",
       "      <th>customer_state</th>\n",
       "    </tr>\n",
       "  </thead>\n",
       "  <tbody>\n",
       "    <tr>\n",
       "      <th>5</th>\n",
       "      <td>879864dab9bc3047522c92c82e1212b8</td>\n",
       "      <td>4c93744516667ad3b8f1fb645a3116a4</td>\n",
       "      <td>89254</td>\n",
       "      <td>Jaragua Do Sul</td>\n",
       "      <td>SC</td>\n",
       "    </tr>\n",
       "    <tr>\n",
       "      <th>8</th>\n",
       "      <td>5adf08e34b2e993982a47070956c5c65</td>\n",
       "      <td>1175e95fb47ddff9de6b2b06188f7e0d</td>\n",
       "      <td>81560</td>\n",
       "      <td>Curitiba</td>\n",
       "      <td>PR</td>\n",
       "    </tr>\n",
       "    <tr>\n",
       "      <th>13</th>\n",
       "      <td>eabebad39a88bb6f5b52376faec28612</td>\n",
       "      <td>295c05e81917928d76245e842748184d</td>\n",
       "      <td>5704</td>\n",
       "      <td>Sao Paulo</td>\n",
       "      <td>SP</td>\n",
       "    </tr>\n",
       "    <tr>\n",
       "      <th>32</th>\n",
       "      <td>2d5831cb2dff7cdefba62e950ae3dc7b</td>\n",
       "      <td>e9dd12dca17352644a959d9dea133935</td>\n",
       "      <td>42800</td>\n",
       "      <td>Camacari</td>\n",
       "      <td>BA</td>\n",
       "    </tr>\n",
       "    <tr>\n",
       "      <th>33</th>\n",
       "      <td>b2bed119388167a954382cca36c4777f</td>\n",
       "      <td>e079b18794454de9d2be5c12b4392294</td>\n",
       "      <td>27525</td>\n",
       "      <td>Resende</td>\n",
       "      <td>RJ</td>\n",
       "    </tr>\n",
       "  </tbody>\n",
       "</table>\n",
       "</div>"
      ],
      "text/plain": [
       "                         customer_id                customer_unique_id  \\\n",
       "5   879864dab9bc3047522c92c82e1212b8  4c93744516667ad3b8f1fb645a3116a4   \n",
       "8   5adf08e34b2e993982a47070956c5c65  1175e95fb47ddff9de6b2b06188f7e0d   \n",
       "13  eabebad39a88bb6f5b52376faec28612  295c05e81917928d76245e842748184d   \n",
       "32  2d5831cb2dff7cdefba62e950ae3dc7b  e9dd12dca17352644a959d9dea133935   \n",
       "33  b2bed119388167a954382cca36c4777f  e079b18794454de9d2be5c12b4392294   \n",
       "\n",
       "    customer_zip_code_prefix   customer_city customer_state  \n",
       "5                      89254  Jaragua Do Sul             SC  \n",
       "8                      81560        Curitiba             PR  \n",
       "13                      5704       Sao Paulo             SP  \n",
       "32                     42800        Camacari             BA  \n",
       "33                     27525         Resende             RJ  "
      ]
     },
     "execution_count": 17,
     "metadata": {},
     "output_type": "execute_result"
    }
   ],
   "source": [
    "duplicate_ids.head()"
   ]
  },
  {
   "cell_type": "code",
   "execution_count": 18,
   "id": "d002d368-08de-4dfc-b954-4662f926c89f",
   "metadata": {},
   "outputs": [],
   "source": [
    "customers_df = customers_df.drop_duplicates(subset='customer_unique_id')"
   ]
  },
  {
   "cell_type": "code",
   "execution_count": 19,
   "id": "85ec4c3c-bf7d-418b-a219-d1b723651240",
   "metadata": {},
   "outputs": [
    {
     "name": "stdout",
     "output_type": "stream",
     "text": [
      "True\n"
     ]
    }
   ],
   "source": [
    "is_unique = customers_df['customer_unique_id'].is_unique\n",
    "print(is_unique)  # Harusnya sekarang True"
   ]
  },
  {
   "cell_type": "markdown",
   "id": "f852fc5e-b1a4-4fdd-9770-1af192d88ae5",
   "metadata": {},
   "source": [
    "**Insight:** <br>\n",
    "- Ini memberi gambaran tentang seberapa besar basis pelanggan yang ada dalam dataset. Jika ada perbedaan antara jumlah total baris dengan jumlah pelanggan unik, bisa jadi ada pelanggan yang melakukan lebih dari satu transaksi.<br>\n",
    "- Pelanggan yang memiliki customer_unique_id duplikat mungkin menunjukkan ada kesalahan data, seperti pencatatan yang salah, penggabungan data yang tidak benar, atau masalah lainnya. Memperbaiki data ini penting agar insight lainnya lebih akurat."
   ]
  },
  {
   "cell_type": "code",
   "execution_count": 20,
   "id": "06ba92b9-fbd8-4793-a82d-e48849d649d2",
   "metadata": {},
   "outputs": [
    {
     "data": {
      "text/html": [
       "<div>\n",
       "<style scoped>\n",
       "    .dataframe tbody tr th:only-of-type {\n",
       "        vertical-align: middle;\n",
       "    }\n",
       "\n",
       "    .dataframe tbody tr th {\n",
       "        vertical-align: top;\n",
       "    }\n",
       "\n",
       "    .dataframe thead th {\n",
       "        text-align: right;\n",
       "    }\n",
       "</style>\n",
       "<table border=\"1\" class=\"dataframe\">\n",
       "  <thead>\n",
       "    <tr style=\"text-align: right;\">\n",
       "      <th></th>\n",
       "      <th>customer_zip_code_prefix</th>\n",
       "    </tr>\n",
       "  </thead>\n",
       "  <tbody>\n",
       "    <tr>\n",
       "      <th>count</th>\n",
       "      <td>96096.000000</td>\n",
       "    </tr>\n",
       "    <tr>\n",
       "      <th>mean</th>\n",
       "      <td>35185.761832</td>\n",
       "    </tr>\n",
       "    <tr>\n",
       "      <th>std</th>\n",
       "      <td>29801.656868</td>\n",
       "    </tr>\n",
       "    <tr>\n",
       "      <th>min</th>\n",
       "      <td>1003.000000</td>\n",
       "    </tr>\n",
       "    <tr>\n",
       "      <th>25%</th>\n",
       "      <td>11405.000000</td>\n",
       "    </tr>\n",
       "    <tr>\n",
       "      <th>50%</th>\n",
       "      <td>24440.000000</td>\n",
       "    </tr>\n",
       "    <tr>\n",
       "      <th>75%</th>\n",
       "      <td>59035.500000</td>\n",
       "    </tr>\n",
       "    <tr>\n",
       "      <th>max</th>\n",
       "      <td>99990.000000</td>\n",
       "    </tr>\n",
       "  </tbody>\n",
       "</table>\n",
       "</div>"
      ],
      "text/plain": [
       "       customer_zip_code_prefix\n",
       "count              96096.000000\n",
       "mean               35185.761832\n",
       "std                29801.656868\n",
       "min                 1003.000000\n",
       "25%                11405.000000\n",
       "50%                24440.000000\n",
       "75%                59035.500000\n",
       "max                99990.000000"
      ]
     },
     "execution_count": 20,
     "metadata": {},
     "output_type": "execute_result"
    }
   ],
   "source": [
    "customers_df.describe()"
   ]
  },
  {
   "cell_type": "markdown",
   "id": "dc013abd-e324-407b-b9fb-c8a0bd20c24c",
   "metadata": {},
   "source": [
    "**- Membersihkan tabel orders_df**"
   ]
  },
  {
   "cell_type": "code",
   "execution_count": 21,
   "id": "3f43503e-4638-4823-b735-ed4fd944a729",
   "metadata": {},
   "outputs": [
    {
     "name": "stdout",
     "output_type": "stream",
     "text": [
      "<class 'pandas.core.frame.DataFrame'>\n",
      "RangeIndex: 99441 entries, 0 to 99440\n",
      "Data columns (total 8 columns):\n",
      " #   Column                         Non-Null Count  Dtype \n",
      "---  ------                         --------------  ----- \n",
      " 0   order_id                       99441 non-null  object\n",
      " 1   customer_id                    99441 non-null  object\n",
      " 2   order_status                   99441 non-null  object\n",
      " 3   order_purchase_timestamp       99441 non-null  object\n",
      " 4   order_approved_at              99281 non-null  object\n",
      " 5   order_delivered_carrier_date   97658 non-null  object\n",
      " 6   order_delivered_customer_date  96476 non-null  object\n",
      " 7   order_estimated_delivery_date  99441 non-null  object\n",
      "dtypes: object(8)\n",
      "memory usage: 6.1+ MB\n"
     ]
    }
   ],
   "source": [
    "orders_df.info()"
   ]
  },
  {
   "cell_type": "markdown",
   "id": "5def7584-409c-4f52-b515-989f690d2b2f",
   "metadata": {},
   "source": [
    "**Memperbaiki tipe data order_df**"
   ]
  },
  {
   "cell_type": "code",
   "execution_count": 22,
   "id": "8d3473ff-9b78-4cc0-9bf7-cee2d8fdee86",
   "metadata": {},
   "outputs": [],
   "source": [
    "datetime_columns = [\n",
    "    \"order_purchase_timestamp\", \n",
    "    \"order_approved_at\", \n",
    "    \"order_delivered_carrier_date\", \n",
    "    \"order_delivered_customer_date\", \n",
    "    \"order_estimated_delivery_date\"\n",
    "]\n",
    "\n",
    "# Mengonversi kolom-kolom datetime dalam satu loop\n",
    "for column in datetime_columns:\n",
    "    orders_df[column] = pd.to_datetime(orders_df[column], errors='coerce')\n"
   ]
  },
  {
   "cell_type": "code",
   "execution_count": 23,
   "id": "c5888595-c0bd-4262-bc70-bfbe407f2913",
   "metadata": {},
   "outputs": [
    {
     "name": "stdout",
     "output_type": "stream",
     "text": [
      "<class 'pandas.core.frame.DataFrame'>\n",
      "RangeIndex: 99441 entries, 0 to 99440\n",
      "Data columns (total 8 columns):\n",
      " #   Column                         Non-Null Count  Dtype         \n",
      "---  ------                         --------------  -----         \n",
      " 0   order_id                       99441 non-null  object        \n",
      " 1   customer_id                    99441 non-null  object        \n",
      " 2   order_status                   99441 non-null  object        \n",
      " 3   order_purchase_timestamp       99441 non-null  datetime64[ns]\n",
      " 4   order_approved_at              99281 non-null  datetime64[ns]\n",
      " 5   order_delivered_carrier_date   97658 non-null  datetime64[ns]\n",
      " 6   order_delivered_customer_date  96476 non-null  datetime64[ns]\n",
      " 7   order_estimated_delivery_date  99441 non-null  datetime64[ns]\n",
      "dtypes: datetime64[ns](5), object(3)\n",
      "memory usage: 6.1+ MB\n"
     ]
    }
   ],
   "source": [
    "\n",
    "orders_df.info()"
   ]
  },
  {
   "cell_type": "code",
   "execution_count": 24,
   "id": "c53e9382-ab41-4e22-9945-a18fbe55a4ad",
   "metadata": {},
   "outputs": [
    {
     "data": {
      "text/html": [
       "<div>\n",
       "<style scoped>\n",
       "    .dataframe tbody tr th:only-of-type {\n",
       "        vertical-align: middle;\n",
       "    }\n",
       "\n",
       "    .dataframe tbody tr th {\n",
       "        vertical-align: top;\n",
       "    }\n",
       "\n",
       "    .dataframe thead th {\n",
       "        text-align: right;\n",
       "    }\n",
       "</style>\n",
       "<table border=\"1\" class=\"dataframe\">\n",
       "  <thead>\n",
       "    <tr style=\"text-align: right;\">\n",
       "      <th></th>\n",
       "      <th>order_id</th>\n",
       "      <th>customer_id</th>\n",
       "      <th>order_status</th>\n",
       "      <th>order_purchase_timestamp</th>\n",
       "      <th>order_approved_at</th>\n",
       "      <th>order_delivered_carrier_date</th>\n",
       "      <th>order_delivered_customer_date</th>\n",
       "      <th>order_estimated_delivery_date</th>\n",
       "    </tr>\n",
       "  </thead>\n",
       "  <tbody>\n",
       "    <tr>\n",
       "      <th>0</th>\n",
       "      <td>e481f51cbdc54678b7cc49136f2d6af7</td>\n",
       "      <td>9ef432eb6251297304e76186b10a928d</td>\n",
       "      <td>delivered</td>\n",
       "      <td>2017-10-02 10:56:33</td>\n",
       "      <td>2017-10-02 11:07:15</td>\n",
       "      <td>2017-10-04 19:55:00</td>\n",
       "      <td>2017-10-10 21:25:13</td>\n",
       "      <td>2017-10-18</td>\n",
       "    </tr>\n",
       "    <tr>\n",
       "      <th>1</th>\n",
       "      <td>53cdb2fc8bc7dce0b6741e2150273451</td>\n",
       "      <td>b0830fb4747a6c6d20dea0b8c802d7ef</td>\n",
       "      <td>delivered</td>\n",
       "      <td>2018-07-24 20:41:37</td>\n",
       "      <td>2018-07-26 03:24:27</td>\n",
       "      <td>2018-07-26 14:31:00</td>\n",
       "      <td>2018-08-07 15:27:45</td>\n",
       "      <td>2018-08-13</td>\n",
       "    </tr>\n",
       "    <tr>\n",
       "      <th>2</th>\n",
       "      <td>47770eb9100c2d0c44946d9cf07ec65d</td>\n",
       "      <td>41ce2a54c0b03bf3443c3d931a367089</td>\n",
       "      <td>delivered</td>\n",
       "      <td>2018-08-08 08:38:49</td>\n",
       "      <td>2018-08-08 08:55:23</td>\n",
       "      <td>2018-08-08 13:50:00</td>\n",
       "      <td>2018-08-17 18:06:29</td>\n",
       "      <td>2018-09-04</td>\n",
       "    </tr>\n",
       "    <tr>\n",
       "      <th>3</th>\n",
       "      <td>949d5b44dbf5de918fe9c16f97b45f8a</td>\n",
       "      <td>f88197465ea7920adcdbec7375364d82</td>\n",
       "      <td>delivered</td>\n",
       "      <td>2017-11-18 19:28:06</td>\n",
       "      <td>2017-11-18 19:45:59</td>\n",
       "      <td>2017-11-22 13:39:59</td>\n",
       "      <td>2017-12-02 00:28:42</td>\n",
       "      <td>2017-12-15</td>\n",
       "    </tr>\n",
       "    <tr>\n",
       "      <th>4</th>\n",
       "      <td>ad21c59c0840e6cb83a9ceb5573f8159</td>\n",
       "      <td>8ab97904e6daea8866dbdbc4fb7aad2c</td>\n",
       "      <td>delivered</td>\n",
       "      <td>2018-02-13 21:18:39</td>\n",
       "      <td>2018-02-13 22:20:29</td>\n",
       "      <td>2018-02-14 19:46:34</td>\n",
       "      <td>2018-02-16 18:17:02</td>\n",
       "      <td>2018-02-26</td>\n",
       "    </tr>\n",
       "  </tbody>\n",
       "</table>\n",
       "</div>"
      ],
      "text/plain": [
       "                           order_id                       customer_id  \\\n",
       "0  e481f51cbdc54678b7cc49136f2d6af7  9ef432eb6251297304e76186b10a928d   \n",
       "1  53cdb2fc8bc7dce0b6741e2150273451  b0830fb4747a6c6d20dea0b8c802d7ef   \n",
       "2  47770eb9100c2d0c44946d9cf07ec65d  41ce2a54c0b03bf3443c3d931a367089   \n",
       "3  949d5b44dbf5de918fe9c16f97b45f8a  f88197465ea7920adcdbec7375364d82   \n",
       "4  ad21c59c0840e6cb83a9ceb5573f8159  8ab97904e6daea8866dbdbc4fb7aad2c   \n",
       "\n",
       "  order_status order_purchase_timestamp   order_approved_at  \\\n",
       "0    delivered      2017-10-02 10:56:33 2017-10-02 11:07:15   \n",
       "1    delivered      2018-07-24 20:41:37 2018-07-26 03:24:27   \n",
       "2    delivered      2018-08-08 08:38:49 2018-08-08 08:55:23   \n",
       "3    delivered      2017-11-18 19:28:06 2017-11-18 19:45:59   \n",
       "4    delivered      2018-02-13 21:18:39 2018-02-13 22:20:29   \n",
       "\n",
       "  order_delivered_carrier_date order_delivered_customer_date  \\\n",
       "0          2017-10-04 19:55:00           2017-10-10 21:25:13   \n",
       "1          2018-07-26 14:31:00           2018-08-07 15:27:45   \n",
       "2          2018-08-08 13:50:00           2018-08-17 18:06:29   \n",
       "3          2017-11-22 13:39:59           2017-12-02 00:28:42   \n",
       "4          2018-02-14 19:46:34           2018-02-16 18:17:02   \n",
       "\n",
       "  order_estimated_delivery_date  \n",
       "0                    2017-10-18  \n",
       "1                    2018-08-13  \n",
       "2                    2018-09-04  \n",
       "3                    2017-12-15  \n",
       "4                    2018-02-26  "
      ]
     },
     "execution_count": 24,
     "metadata": {},
     "output_type": "execute_result"
    }
   ],
   "source": [
    "\n",
    "orders_df.head()"
   ]
  },
  {
   "cell_type": "markdown",
   "id": "20d3c047-4d5b-4c05-9f2e-0f3ce5f8f340",
   "metadata": {},
   "source": [
    "**Missing Values**"
   ]
  },
  {
   "cell_type": "code",
   "execution_count": 25,
   "id": "0b6ebf3b-1122-4947-9195-60d6382a8429",
   "metadata": {},
   "outputs": [
    {
     "data": {
      "text/plain": [
       "order_id                            0\n",
       "customer_id                         0\n",
       "order_status                        0\n",
       "order_purchase_timestamp            0\n",
       "order_approved_at                 160\n",
       "order_delivered_carrier_date     1783\n",
       "order_delivered_customer_date    2965\n",
       "order_estimated_delivery_date       0\n",
       "dtype: int64"
      ]
     },
     "execution_count": 25,
     "metadata": {},
     "output_type": "execute_result"
    }
   ],
   "source": [
    "\n",
    "orders_df.isna().sum()"
   ]
  },
  {
   "cell_type": "code",
   "execution_count": 26,
   "id": "98e080d4-66a3-4b97-967f-5295792d7128",
   "metadata": {},
   "outputs": [
    {
     "data": {
      "text/html": [
       "<div>\n",
       "<style scoped>\n",
       "    .dataframe tbody tr th:only-of-type {\n",
       "        vertical-align: middle;\n",
       "    }\n",
       "\n",
       "    .dataframe tbody tr th {\n",
       "        vertical-align: top;\n",
       "    }\n",
       "\n",
       "    .dataframe thead th {\n",
       "        text-align: right;\n",
       "    }\n",
       "</style>\n",
       "<table border=\"1\" class=\"dataframe\">\n",
       "  <thead>\n",
       "    <tr style=\"text-align: right;\">\n",
       "      <th></th>\n",
       "      <th>order_id</th>\n",
       "      <th>customer_id</th>\n",
       "      <th>order_status</th>\n",
       "      <th>order_purchase_timestamp</th>\n",
       "      <th>order_approved_at</th>\n",
       "      <th>order_delivered_carrier_date</th>\n",
       "      <th>order_delivered_customer_date</th>\n",
       "      <th>order_estimated_delivery_date</th>\n",
       "    </tr>\n",
       "  </thead>\n",
       "  <tbody>\n",
       "    <tr>\n",
       "      <th>6</th>\n",
       "      <td>136cce7faa42fdb2cefd53fdc79a6098</td>\n",
       "      <td>ed0271e0b7da060a393796590e7b737a</td>\n",
       "      <td>invoiced</td>\n",
       "      <td>2017-04-11 12:22:08</td>\n",
       "      <td>2017-04-13 13:25:17</td>\n",
       "      <td>NaT</td>\n",
       "      <td>NaT</td>\n",
       "      <td>2017-05-09</td>\n",
       "    </tr>\n",
       "    <tr>\n",
       "      <th>44</th>\n",
       "      <td>ee64d42b8cf066f35eac1cf57de1aa85</td>\n",
       "      <td>caded193e8e47b8362864762a83db3c5</td>\n",
       "      <td>shipped</td>\n",
       "      <td>2018-06-04 16:44:48</td>\n",
       "      <td>2018-06-05 04:31:18</td>\n",
       "      <td>2018-06-05 14:32:00</td>\n",
       "      <td>NaT</td>\n",
       "      <td>2018-06-28</td>\n",
       "    </tr>\n",
       "    <tr>\n",
       "      <th>103</th>\n",
       "      <td>0760a852e4e9d89eb77bf631eaaf1c84</td>\n",
       "      <td>d2a79636084590b7465af8ab374a8cf5</td>\n",
       "      <td>invoiced</td>\n",
       "      <td>2018-08-03 17:44:42</td>\n",
       "      <td>2018-08-07 06:15:14</td>\n",
       "      <td>NaT</td>\n",
       "      <td>NaT</td>\n",
       "      <td>2018-08-21</td>\n",
       "    </tr>\n",
       "    <tr>\n",
       "      <th>128</th>\n",
       "      <td>15bed8e2fec7fdbadb186b57c46c92f2</td>\n",
       "      <td>f3f0e613e0bdb9c7cee75504f0f90679</td>\n",
       "      <td>processing</td>\n",
       "      <td>2017-09-03 14:22:03</td>\n",
       "      <td>2017-09-03 14:30:09</td>\n",
       "      <td>NaT</td>\n",
       "      <td>NaT</td>\n",
       "      <td>2017-10-03</td>\n",
       "    </tr>\n",
       "    <tr>\n",
       "      <th>154</th>\n",
       "      <td>6942b8da583c2f9957e990d028607019</td>\n",
       "      <td>52006a9383bf149a4fb24226b173106f</td>\n",
       "      <td>shipped</td>\n",
       "      <td>2018-01-10 11:33:07</td>\n",
       "      <td>2018-01-11 02:32:30</td>\n",
       "      <td>2018-01-11 19:39:23</td>\n",
       "      <td>NaT</td>\n",
       "      <td>2018-02-07</td>\n",
       "    </tr>\n",
       "    <tr>\n",
       "      <th>...</th>\n",
       "      <td>...</td>\n",
       "      <td>...</td>\n",
       "      <td>...</td>\n",
       "      <td>...</td>\n",
       "      <td>...</td>\n",
       "      <td>...</td>\n",
       "      <td>...</td>\n",
       "      <td>...</td>\n",
       "    </tr>\n",
       "    <tr>\n",
       "      <th>99283</th>\n",
       "      <td>3a3cddda5a7c27851bd96c3313412840</td>\n",
       "      <td>0b0d6095c5555fe083844281f6b093bb</td>\n",
       "      <td>canceled</td>\n",
       "      <td>2018-08-31 16:13:44</td>\n",
       "      <td>NaT</td>\n",
       "      <td>NaT</td>\n",
       "      <td>NaT</td>\n",
       "      <td>2018-10-01</td>\n",
       "    </tr>\n",
       "    <tr>\n",
       "      <th>99313</th>\n",
       "      <td>e9e64a17afa9653aacf2616d94c005b8</td>\n",
       "      <td>b4cd0522e632e481f8eaf766a2646e86</td>\n",
       "      <td>processing</td>\n",
       "      <td>2018-01-05 23:07:24</td>\n",
       "      <td>2018-01-09 07:18:05</td>\n",
       "      <td>NaT</td>\n",
       "      <td>NaT</td>\n",
       "      <td>2018-02-06</td>\n",
       "    </tr>\n",
       "    <tr>\n",
       "      <th>99347</th>\n",
       "      <td>a89abace0dcc01eeb267a9660b5ac126</td>\n",
       "      <td>2f0524a7b1b3845a1a57fcf3910c4333</td>\n",
       "      <td>canceled</td>\n",
       "      <td>2018-09-06 18:45:47</td>\n",
       "      <td>NaT</td>\n",
       "      <td>NaT</td>\n",
       "      <td>NaT</td>\n",
       "      <td>2018-09-27</td>\n",
       "    </tr>\n",
       "    <tr>\n",
       "      <th>99348</th>\n",
       "      <td>a69ba794cc7deb415c3e15a0a3877e69</td>\n",
       "      <td>726f0894b5becdf952ea537d5266e543</td>\n",
       "      <td>unavailable</td>\n",
       "      <td>2017-08-23 16:28:04</td>\n",
       "      <td>2017-08-28 15:44:47</td>\n",
       "      <td>NaT</td>\n",
       "      <td>NaT</td>\n",
       "      <td>2017-09-15</td>\n",
       "    </tr>\n",
       "    <tr>\n",
       "      <th>99415</th>\n",
       "      <td>5fabc81b6322c8443648e1b21a6fef21</td>\n",
       "      <td>32c9df889d41b0ee8309a5efb6855dcb</td>\n",
       "      <td>unavailable</td>\n",
       "      <td>2017-10-10 10:50:03</td>\n",
       "      <td>2017-10-14 18:35:57</td>\n",
       "      <td>NaT</td>\n",
       "      <td>NaT</td>\n",
       "      <td>2017-10-23</td>\n",
       "    </tr>\n",
       "  </tbody>\n",
       "</table>\n",
       "<p>2980 rows × 8 columns</p>\n",
       "</div>"
      ],
      "text/plain": [
       "                               order_id                       customer_id  \\\n",
       "6      136cce7faa42fdb2cefd53fdc79a6098  ed0271e0b7da060a393796590e7b737a   \n",
       "44     ee64d42b8cf066f35eac1cf57de1aa85  caded193e8e47b8362864762a83db3c5   \n",
       "103    0760a852e4e9d89eb77bf631eaaf1c84  d2a79636084590b7465af8ab374a8cf5   \n",
       "128    15bed8e2fec7fdbadb186b57c46c92f2  f3f0e613e0bdb9c7cee75504f0f90679   \n",
       "154    6942b8da583c2f9957e990d028607019  52006a9383bf149a4fb24226b173106f   \n",
       "...                                 ...                               ...   \n",
       "99283  3a3cddda5a7c27851bd96c3313412840  0b0d6095c5555fe083844281f6b093bb   \n",
       "99313  e9e64a17afa9653aacf2616d94c005b8  b4cd0522e632e481f8eaf766a2646e86   \n",
       "99347  a89abace0dcc01eeb267a9660b5ac126  2f0524a7b1b3845a1a57fcf3910c4333   \n",
       "99348  a69ba794cc7deb415c3e15a0a3877e69  726f0894b5becdf952ea537d5266e543   \n",
       "99415  5fabc81b6322c8443648e1b21a6fef21  32c9df889d41b0ee8309a5efb6855dcb   \n",
       "\n",
       "      order_status order_purchase_timestamp   order_approved_at  \\\n",
       "6         invoiced      2017-04-11 12:22:08 2017-04-13 13:25:17   \n",
       "44         shipped      2018-06-04 16:44:48 2018-06-05 04:31:18   \n",
       "103       invoiced      2018-08-03 17:44:42 2018-08-07 06:15:14   \n",
       "128     processing      2017-09-03 14:22:03 2017-09-03 14:30:09   \n",
       "154        shipped      2018-01-10 11:33:07 2018-01-11 02:32:30   \n",
       "...            ...                      ...                 ...   \n",
       "99283     canceled      2018-08-31 16:13:44                 NaT   \n",
       "99313   processing      2018-01-05 23:07:24 2018-01-09 07:18:05   \n",
       "99347     canceled      2018-09-06 18:45:47                 NaT   \n",
       "99348  unavailable      2017-08-23 16:28:04 2017-08-28 15:44:47   \n",
       "99415  unavailable      2017-10-10 10:50:03 2017-10-14 18:35:57   \n",
       "\n",
       "      order_delivered_carrier_date order_delivered_customer_date  \\\n",
       "6                              NaT                           NaT   \n",
       "44             2018-06-05 14:32:00                           NaT   \n",
       "103                            NaT                           NaT   \n",
       "128                            NaT                           NaT   \n",
       "154            2018-01-11 19:39:23                           NaT   \n",
       "...                            ...                           ...   \n",
       "99283                          NaT                           NaT   \n",
       "99313                          NaT                           NaT   \n",
       "99347                          NaT                           NaT   \n",
       "99348                          NaT                           NaT   \n",
       "99415                          NaT                           NaT   \n",
       "\n",
       "      order_estimated_delivery_date  \n",
       "6                        2017-05-09  \n",
       "44                       2018-06-28  \n",
       "103                      2018-08-21  \n",
       "128                      2017-10-03  \n",
       "154                      2018-02-07  \n",
       "...                             ...  \n",
       "99283                    2018-10-01  \n",
       "99313                    2018-02-06  \n",
       "99347                    2018-09-27  \n",
       "99348                    2017-09-15  \n",
       "99415                    2017-10-23  \n",
       "\n",
       "[2980 rows x 8 columns]"
      ]
     },
     "execution_count": 26,
     "metadata": {},
     "output_type": "execute_result"
    }
   ],
   "source": [
    "orders_df[\n",
    "    orders_df['order_approved_at'].isna() |\n",
    "    orders_df['order_delivered_carrier_date'].isna() |\n",
    "    orders_df['order_delivered_customer_date'].isna()\n",
    "]\n",
    "\n"
   ]
  },
  {
   "cell_type": "code",
   "execution_count": 27,
   "id": "2b3e9810-9c36-4e75-9b8c-3544f66ea12a",
   "metadata": {},
   "outputs": [],
   "source": [
    "orders_df_cleaned = orders_df.dropna(subset=[\n",
    "    'order_approved_at', \n",
    "    'order_delivered_carrier_date', \n",
    "    'order_delivered_customer_date'\n",
    "])"
   ]
  },
  {
   "cell_type": "code",
   "execution_count": 28,
   "id": "44d6864b-bea2-43b6-a7d6-5010c056cd46",
   "metadata": {},
   "outputs": [
    {
     "data": {
      "text/plain": [
       "order_id                            0\n",
       "customer_id                         0\n",
       "order_status                        0\n",
       "order_purchase_timestamp            0\n",
       "order_approved_at                 160\n",
       "order_delivered_carrier_date     1783\n",
       "order_delivered_customer_date    2965\n",
       "order_estimated_delivery_date       0\n",
       "dtype: int64"
      ]
     },
     "execution_count": 28,
     "metadata": {},
     "output_type": "execute_result"
    }
   ],
   "source": [
    "orders_df.isna().sum()"
   ]
  },
  {
   "cell_type": "markdown",
   "id": "9426056a-e63f-4b9a-9338-7c05a73ee955",
   "metadata": {},
   "source": [
    "- Disini terdapat data yang hilang yaitu **order_approved_at, order_delivered_carrier_date, order_delivered_customer_date**  "
   ]
  },
  {
   "cell_type": "code",
   "execution_count": 29,
   "id": "bdd5709a-43f0-4c38-81bf-217a9ead8a01",
   "metadata": {},
   "outputs": [
    {
     "name": "stderr",
     "output_type": "stream",
     "text": [
      "C:\\Users\\muhammad daniel ily\\AppData\\Local\\Temp\\ipykernel_19332\\1227898283.py:1: FutureWarning: A value is trying to be set on a copy of a DataFrame or Series through chained assignment using an inplace method.\n",
      "The behavior will change in pandas 3.0. This inplace method will never work because the intermediate object on which we are setting values always behaves as a copy.\n",
      "\n",
      "For example, when doing 'df[col].method(value, inplace=True)', try using 'df.method({col: value}, inplace=True)' or df[col] = df[col].method(value) instead, to perform the operation inplace on the original object.\n",
      "\n",
      "\n",
      "  orders_df['order_approved_at'].bfill(inplace=True)\n"
     ]
    }
   ],
   "source": [
    "orders_df['order_approved_at'].bfill(inplace=True)"
   ]
  },
  {
   "cell_type": "code",
   "execution_count": 30,
   "id": "e52eedc1-8aa4-4400-a117-a0a569547565",
   "metadata": {},
   "outputs": [
    {
     "name": "stderr",
     "output_type": "stream",
     "text": [
      "C:\\Users\\muhammad daniel ily\\AppData\\Local\\Temp\\ipykernel_19332\\513713000.py:1: FutureWarning: A value is trying to be set on a copy of a DataFrame or Series through chained assignment using an inplace method.\n",
      "The behavior will change in pandas 3.0. This inplace method will never work because the intermediate object on which we are setting values always behaves as a copy.\n",
      "\n",
      "For example, when doing 'df[col].method(value, inplace=True)', try using 'df.method({col: value}, inplace=True)' or df[col] = df[col].method(value) instead, to perform the operation inplace on the original object.\n",
      "\n",
      "\n",
      "  orders_df['order_delivered_carrier_date'].ffill(inplace=True)\n"
     ]
    }
   ],
   "source": [
    "orders_df['order_delivered_carrier_date'].ffill(inplace=True)"
   ]
  },
  {
   "cell_type": "code",
   "execution_count": 31,
   "id": "7521704c-5e04-45da-ad58-28ca7804ee5d",
   "metadata": {},
   "outputs": [
    {
     "name": "stderr",
     "output_type": "stream",
     "text": [
      "C:\\Users\\muhammad daniel ily\\AppData\\Local\\Temp\\ipykernel_19332\\4249658227.py:1: FutureWarning: A value is trying to be set on a copy of a DataFrame or Series through chained assignment using an inplace method.\n",
      "The behavior will change in pandas 3.0. This inplace method will never work because the intermediate object on which we are setting values always behaves as a copy.\n",
      "\n",
      "For example, when doing 'df[col].method(value, inplace=True)', try using 'df.method({col: value}, inplace=True)' or df[col] = df[col].method(value) instead, to perform the operation inplace on the original object.\n",
      "\n",
      "\n",
      "  orders_df['order_delivered_customer_date'].ffill(inplace=True)\n"
     ]
    }
   ],
   "source": [
    "orders_df['order_delivered_customer_date'].ffill(inplace=True)"
   ]
  },
  {
   "cell_type": "code",
   "execution_count": 32,
   "id": "e5306d45-36cd-4707-b24f-49241bc46b76",
   "metadata": {},
   "outputs": [
    {
     "data": {
      "text/plain": [
       "order_id                         0\n",
       "customer_id                      0\n",
       "order_status                     0\n",
       "order_purchase_timestamp         0\n",
       "order_approved_at                0\n",
       "order_delivered_carrier_date     0\n",
       "order_delivered_customer_date    0\n",
       "order_estimated_delivery_date    0\n",
       "dtype: int64"
      ]
     },
     "execution_count": 32,
     "metadata": {},
     "output_type": "execute_result"
    }
   ],
   "source": [
    "orders_df.isna().sum()"
   ]
  },
  {
   "cell_type": "markdown",
   "id": "c44a0395-5d3e-4339-837a-8b14e34143d1",
   "metadata": {},
   "source": [
    "- Data yang hilang/kosong sudah diisi "
   ]
  },
  {
   "cell_type": "markdown",
   "id": "7074e847-a4c2-42f2-a093-82129af4a3d3",
   "metadata": {},
   "source": [
    "**Insight:** <br>\n",
    "1. Missing values bisa diisi menggunakan metode seperti forward fill (ffill) atau backward fill (bfill), atau bisa juga dihapus jika tidak terlalu banyak.<br>\n",
    "2. Mendeteksi dan menghapus data duplikat adalah langkah penting untuk menjaga integritas dataset. "
   ]
  },
  {
   "cell_type": "markdown",
   "id": "b808b021-c494-4d68-a756-398fb621554d",
   "metadata": {},
   "source": [
    "## Exploratory Data Analysis (EDA)"
   ]
  },
  {
   "cell_type": "markdown",
   "id": "70357353-db82-4d1b-b1a1-482a13c48284",
   "metadata": {},
   "source": [
    "# Explore tabel customer_df"
   ]
  },
  {
   "cell_type": "code",
   "execution_count": 33,
   "id": "007964c5-d0c4-426c-9e26-3638d71fa777",
   "metadata": {},
   "outputs": [
    {
     "data": {
      "text/html": [
       "<div>\n",
       "<style scoped>\n",
       "    .dataframe tbody tr th:only-of-type {\n",
       "        vertical-align: middle;\n",
       "    }\n",
       "\n",
       "    .dataframe tbody tr th {\n",
       "        vertical-align: top;\n",
       "    }\n",
       "\n",
       "    .dataframe thead th {\n",
       "        text-align: right;\n",
       "    }\n",
       "</style>\n",
       "<table border=\"1\" class=\"dataframe\">\n",
       "  <thead>\n",
       "    <tr style=\"text-align: right;\">\n",
       "      <th></th>\n",
       "      <th>customer_id</th>\n",
       "      <th>customer_unique_id</th>\n",
       "      <th>customer_zip_code_prefix</th>\n",
       "      <th>customer_city</th>\n",
       "      <th>customer_state</th>\n",
       "    </tr>\n",
       "  </thead>\n",
       "  <tbody>\n",
       "    <tr>\n",
       "      <th>22164</th>\n",
       "      <td>5d38eb0b466af1fb629d7a4e7eb5663b</td>\n",
       "      <td>c9aa900b01a9ff9be1f80cb4f2819874</td>\n",
       "      <td>13041</td>\n",
       "      <td>Campinas</td>\n",
       "      <td>SP</td>\n",
       "    </tr>\n",
       "    <tr>\n",
       "      <th>82530</th>\n",
       "      <td>f467accea193ed2a3000f9ea4092820b</td>\n",
       "      <td>4bd91035db69402af2402d830849b4df</td>\n",
       "      <td>29310</td>\n",
       "      <td>Cachoeiro De Itapemirim</td>\n",
       "      <td>ES</td>\n",
       "    </tr>\n",
       "    <tr>\n",
       "      <th>7077</th>\n",
       "      <td>0d0e3b7a26309a5bd600231c1c103d44</td>\n",
       "      <td>e501f5b443ca67268a4811dbc206e06f</td>\n",
       "      <td>32665</td>\n",
       "      <td>Betim</td>\n",
       "      <td>MG</td>\n",
       "    </tr>\n",
       "    <tr>\n",
       "      <th>11027</th>\n",
       "      <td>6bbd371a1f2217cc0ad1bc185c0e2894</td>\n",
       "      <td>affff75a131ac35c7afd497ab57a6337</td>\n",
       "      <td>81825</td>\n",
       "      <td>Curitiba</td>\n",
       "      <td>PR</td>\n",
       "    </tr>\n",
       "    <tr>\n",
       "      <th>31455</th>\n",
       "      <td>48a40b0cc080812a5e77d16d4e74abde</td>\n",
       "      <td>e8d52071cb03beaf1320119dbc49cd8e</td>\n",
       "      <td>3924</td>\n",
       "      <td>Sao Paulo</td>\n",
       "      <td>SP</td>\n",
       "    </tr>\n",
       "  </tbody>\n",
       "</table>\n",
       "</div>"
      ],
      "text/plain": [
       "                            customer_id                customer_unique_id  \\\n",
       "22164  5d38eb0b466af1fb629d7a4e7eb5663b  c9aa900b01a9ff9be1f80cb4f2819874   \n",
       "82530  f467accea193ed2a3000f9ea4092820b  4bd91035db69402af2402d830849b4df   \n",
       "7077   0d0e3b7a26309a5bd600231c1c103d44  e501f5b443ca67268a4811dbc206e06f   \n",
       "11027  6bbd371a1f2217cc0ad1bc185c0e2894  affff75a131ac35c7afd497ab57a6337   \n",
       "31455  48a40b0cc080812a5e77d16d4e74abde  e8d52071cb03beaf1320119dbc49cd8e   \n",
       "\n",
       "       customer_zip_code_prefix            customer_city customer_state  \n",
       "22164                     13041                 Campinas             SP  \n",
       "82530                     29310  Cachoeiro De Itapemirim             ES  \n",
       "7077                      32665                    Betim             MG  \n",
       "11027                     81825                 Curitiba             PR  \n",
       "31455                      3924                Sao Paulo             SP  "
      ]
     },
     "execution_count": 33,
     "metadata": {},
     "output_type": "execute_result"
    }
   ],
   "source": [
    "customers_df.sample(5)"
   ]
  },
  {
   "cell_type": "code",
   "execution_count": 34,
   "id": "197b99c5-09ab-4ca7-8cf1-2ebc7044fc2f",
   "metadata": {},
   "outputs": [
    {
     "data": {
      "text/html": [
       "<div>\n",
       "<style scoped>\n",
       "    .dataframe tbody tr th:only-of-type {\n",
       "        vertical-align: middle;\n",
       "    }\n",
       "\n",
       "    .dataframe tbody tr th {\n",
       "        vertical-align: top;\n",
       "    }\n",
       "\n",
       "    .dataframe thead th {\n",
       "        text-align: right;\n",
       "    }\n",
       "</style>\n",
       "<table border=\"1\" class=\"dataframe\">\n",
       "  <thead>\n",
       "    <tr style=\"text-align: right;\">\n",
       "      <th></th>\n",
       "      <th>customer_id</th>\n",
       "      <th>customer_unique_id</th>\n",
       "      <th>customer_zip_code_prefix</th>\n",
       "      <th>customer_city</th>\n",
       "      <th>customer_state</th>\n",
       "    </tr>\n",
       "  </thead>\n",
       "  <tbody>\n",
       "    <tr>\n",
       "      <th>count</th>\n",
       "      <td>96096</td>\n",
       "      <td>96096</td>\n",
       "      <td>96096.000000</td>\n",
       "      <td>96096</td>\n",
       "      <td>96096</td>\n",
       "    </tr>\n",
       "    <tr>\n",
       "      <th>unique</th>\n",
       "      <td>96096</td>\n",
       "      <td>96096</td>\n",
       "      <td>NaN</td>\n",
       "      <td>4118</td>\n",
       "      <td>27</td>\n",
       "    </tr>\n",
       "    <tr>\n",
       "      <th>top</th>\n",
       "      <td>b6ab7cabd5b094d098e1a1557a6d3f0d</td>\n",
       "      <td>a2325193ac2e95b805642e3100f80af3</td>\n",
       "      <td>NaN</td>\n",
       "      <td>Sao Paulo</td>\n",
       "      <td>SP</td>\n",
       "    </tr>\n",
       "    <tr>\n",
       "      <th>freq</th>\n",
       "      <td>1</td>\n",
       "      <td>1</td>\n",
       "      <td>NaN</td>\n",
       "      <td>14971</td>\n",
       "      <td>40295</td>\n",
       "    </tr>\n",
       "    <tr>\n",
       "      <th>mean</th>\n",
       "      <td>NaN</td>\n",
       "      <td>NaN</td>\n",
       "      <td>35185.761832</td>\n",
       "      <td>NaN</td>\n",
       "      <td>NaN</td>\n",
       "    </tr>\n",
       "    <tr>\n",
       "      <th>std</th>\n",
       "      <td>NaN</td>\n",
       "      <td>NaN</td>\n",
       "      <td>29801.656868</td>\n",
       "      <td>NaN</td>\n",
       "      <td>NaN</td>\n",
       "    </tr>\n",
       "    <tr>\n",
       "      <th>min</th>\n",
       "      <td>NaN</td>\n",
       "      <td>NaN</td>\n",
       "      <td>1003.000000</td>\n",
       "      <td>NaN</td>\n",
       "      <td>NaN</td>\n",
       "    </tr>\n",
       "    <tr>\n",
       "      <th>25%</th>\n",
       "      <td>NaN</td>\n",
       "      <td>NaN</td>\n",
       "      <td>11405.000000</td>\n",
       "      <td>NaN</td>\n",
       "      <td>NaN</td>\n",
       "    </tr>\n",
       "    <tr>\n",
       "      <th>50%</th>\n",
       "      <td>NaN</td>\n",
       "      <td>NaN</td>\n",
       "      <td>24440.000000</td>\n",
       "      <td>NaN</td>\n",
       "      <td>NaN</td>\n",
       "    </tr>\n",
       "    <tr>\n",
       "      <th>75%</th>\n",
       "      <td>NaN</td>\n",
       "      <td>NaN</td>\n",
       "      <td>59035.500000</td>\n",
       "      <td>NaN</td>\n",
       "      <td>NaN</td>\n",
       "    </tr>\n",
       "    <tr>\n",
       "      <th>max</th>\n",
       "      <td>NaN</td>\n",
       "      <td>NaN</td>\n",
       "      <td>99990.000000</td>\n",
       "      <td>NaN</td>\n",
       "      <td>NaN</td>\n",
       "    </tr>\n",
       "  </tbody>\n",
       "</table>\n",
       "</div>"
      ],
      "text/plain": [
       "                             customer_id                customer_unique_id  \\\n",
       "count                              96096                             96096   \n",
       "unique                             96096                             96096   \n",
       "top     b6ab7cabd5b094d098e1a1557a6d3f0d  a2325193ac2e95b805642e3100f80af3   \n",
       "freq                                   1                                 1   \n",
       "mean                                 NaN                               NaN   \n",
       "std                                  NaN                               NaN   \n",
       "min                                  NaN                               NaN   \n",
       "25%                                  NaN                               NaN   \n",
       "50%                                  NaN                               NaN   \n",
       "75%                                  NaN                               NaN   \n",
       "max                                  NaN                               NaN   \n",
       "\n",
       "        customer_zip_code_prefix customer_city customer_state  \n",
       "count               96096.000000         96096          96096  \n",
       "unique                       NaN          4118             27  \n",
       "top                          NaN     Sao Paulo             SP  \n",
       "freq                         NaN         14971          40295  \n",
       "mean                35185.761832           NaN            NaN  \n",
       "std                 29801.656868           NaN            NaN  \n",
       "min                  1003.000000           NaN            NaN  \n",
       "25%                 11405.000000           NaN            NaN  \n",
       "50%                 24440.000000           NaN            NaN  \n",
       "75%                 59035.500000           NaN            NaN  \n",
       "max                 99990.000000           NaN            NaN  "
      ]
     },
     "execution_count": 34,
     "metadata": {},
     "output_type": "execute_result"
    }
   ],
   "source": [
    "customers_df.describe(include=\"all\")"
   ]
  },
  {
   "cell_type": "code",
   "execution_count": 35,
   "id": "f715984d-748d-474f-bda4-38c9806fe6e3",
   "metadata": {},
   "outputs": [
    {
     "data": {
      "text/plain": [
       "True"
      ]
     },
     "execution_count": 35,
     "metadata": {},
     "output_type": "execute_result"
    }
   ],
   "source": [
    "\n",
    "customers_df.customer_id.is_unique"
   ]
  },
  {
   "cell_type": "code",
   "execution_count": 36,
   "id": "02dc9254-529b-4840-aa4b-83a3d5a87855",
   "metadata": {},
   "outputs": [
    {
     "data": {
      "text/plain": [
       "<bound method Series.duplicated of 0        06b8999e2fba1a1fbc88172c00ba8bc7\n",
       "1        18955e83d337fd6b2def6b18a428ac77\n",
       "2        4e7b3e00288586ebd08712fdd0374a03\n",
       "3        b2b6027bc5c5109e529d4dc6358b12c3\n",
       "4        4f2d8ab171c80ec8364f7c12e35b23ad\n",
       "                       ...               \n",
       "99436    17ddf5dd5d51696bb3d7c6291687be6f\n",
       "99437    e7b71a9017aa05c9a7fd292d714858e8\n",
       "99438    5e28dfe12db7fb50a4b2f691faecea5e\n",
       "99439    56b18e2166679b8a959d72dd06da27f9\n",
       "99440    274fa6071e5e17fe303b9748641082c8\n",
       "Name: customer_id, Length: 96096, dtype: object>"
      ]
     },
     "execution_count": 36,
     "metadata": {},
     "output_type": "execute_result"
    }
   ],
   "source": [
    "customers_df.customer_id.duplicated"
   ]
  },
  {
   "cell_type": "code",
   "execution_count": 37,
   "id": "2bd5a2ff-3f92-488d-9770-24a230b41dcf",
   "metadata": {},
   "outputs": [
    {
     "name": "stdout",
     "output_type": "stream",
     "text": [
      "Unique values in customer_id:\n",
      "customer_id\n",
      "b6ab7cabd5b094d098e1a1557a6d3f0d    1\n",
      "f9c989b75558c119a7ce8e9f3c2b8f45    1\n",
      "cf1ec2659f4b1f34f858a0c25e1d5d1a    1\n",
      "4951ae40c746cbd07eecef33fc053e89    1\n",
      "21087ff65fd587817c856257e50f2840    1\n",
      "                                   ..\n",
      "b2b6027bc5c5109e529d4dc6358b12c3    1\n",
      "4f2d8ab171c80ec8364f7c12e35b23ad    1\n",
      "879864dab9bc3047522c92c82e1212b8    1\n",
      "fd826e7cf63160e536e0908c76c3f441    1\n",
      "5e274e7a0c3809e14aba7ad5aae0d407    1\n",
      "Name: count, Length: 96096, dtype: int64\n",
      "\n",
      "\n",
      "Unique values in customer_unique_id:\n",
      "customer_unique_id\n",
      "a2325193ac2e95b805642e3100f80af3    1\n",
      "ce13190d9ef1e855dc50ecea9a1ef809    1\n",
      "592134387e7f13de6a9e38eb7d412b3d    1\n",
      "e18e1db417f0bc97f9065c4aeae3f9d3    1\n",
      "3c8d75c7b0acfda04e92d3dca43ccee7    1\n",
      "                                   ..\n",
      "259dac757896d24d7702b9acbbff3f3c    1\n",
      "345ecd01c38d18a9036ed96c73b8d066    1\n",
      "4c93744516667ad3b8f1fb645a3116a4    1\n",
      "addec96d2e059c80c30fe6871d30d177    1\n",
      "57b2a98a409812fe9618067b6b8ebe4f    1\n",
      "Name: count, Length: 96096, dtype: int64\n",
      "\n",
      "\n",
      "Unique values in customer_zip_code_prefix:\n",
      "customer_zip_code_prefix\n",
      "22790    136\n",
      "22793    119\n",
      "24220    113\n",
      "24230    112\n",
      "22775    105\n",
      "        ... \n",
      "43815      1\n",
      "7112       1\n",
      "89213      1\n",
      "5315       1\n",
      "29020      1\n",
      "Name: count, Length: 14982, dtype: int64\n",
      "\n",
      "\n",
      "Unique values in customer_city:\n",
      "customer_city\n",
      "Sao Paulo              14971\n",
      "Rio De Janeiro          6611\n",
      "Belo Horizonte          2671\n",
      "Brasilia                2066\n",
      "Curitiba                1462\n",
      "                       ...  \n",
      "Passo De Camaragibe        1\n",
      "Marques De Souza           1\n",
      "General Maynard            1\n",
      "Cerrito                    1\n",
      "Tome-Acu                   1\n",
      "Name: count, Length: 4118, dtype: int64\n",
      "\n",
      "\n",
      "Unique values in customer_state:\n",
      "customer_state\n",
      "SP    40295\n",
      "RJ    12377\n",
      "MG    11255\n",
      "RS     5277\n",
      "PR     4882\n",
      "SC     3529\n",
      "BA     3276\n",
      "DF     2073\n",
      "ES     1963\n",
      "GO     1951\n",
      "PE     1604\n",
      "CE     1311\n",
      "PA      949\n",
      "MT      875\n",
      "MA      725\n",
      "MS      693\n",
      "PB      519\n",
      "PI      482\n",
      "RN      474\n",
      "AL      401\n",
      "SE      341\n",
      "TO      273\n",
      "RO      239\n",
      "AM      143\n",
      "AC       77\n",
      "AP       67\n",
      "RR       45\n",
      "Name: count, dtype: int64\n",
      "\n",
      "\n"
     ]
    }
   ],
   "source": [
    "# Memeriksa nilai unik dan frekuensi\n",
    "for column in customers_df.columns:\n",
    "    print(f\"Unique values in {column}:\")\n",
    "    print(customers_df[column].value_counts())\n",
    "    print(\"\\n\")\n"
   ]
  },
  {
   "cell_type": "code",
   "execution_count": 38,
   "id": "a355310d-e866-4a1b-8bd0-c0fca2310c2e",
   "metadata": {},
   "outputs": [
    {
     "data": {
      "text/plain": [
       "customer_city\n",
       "Sao Paulo               14971\n",
       "Rio De Janeiro           6611\n",
       "Belo Horizonte           2671\n",
       "Brasilia                 2066\n",
       "Curitiba                 1462\n",
       "                        ...  \n",
       "Planaltina Do Parana        1\n",
       "Planaltino                  1\n",
       "Pocao                       1\n",
       "Pocao De Pedras             1\n",
       "Poco De Pedra               1\n",
       "Name: customer_id, Length: 4118, dtype: int64"
      ]
     },
     "execution_count": 38,
     "metadata": {},
     "output_type": "execute_result"
    }
   ],
   "source": [
    "customers_df.groupby(by=\"customer_city\").customer_id.nunique().sort_values(ascending=False)\n"
   ]
  },
  {
   "cell_type": "code",
   "execution_count": 39,
   "id": "c67e6a72-c029-4853-b35d-3735b9e56450",
   "metadata": {},
   "outputs": [
    {
     "data": {
      "text/plain": [
       "customer_state\n",
       "SP    40295\n",
       "RJ    12377\n",
       "MG    11255\n",
       "RS     5277\n",
       "PR     4882\n",
       "SC     3529\n",
       "BA     3276\n",
       "DF     2073\n",
       "ES     1963\n",
       "GO     1951\n",
       "PE     1604\n",
       "CE     1311\n",
       "PA      949\n",
       "MT      875\n",
       "MA      725\n",
       "MS      693\n",
       "PB      519\n",
       "PI      482\n",
       "RN      474\n",
       "AL      401\n",
       "SE      341\n",
       "TO      273\n",
       "RO      239\n",
       "AM      143\n",
       "AC       77\n",
       "AP       67\n",
       "RR       45\n",
       "Name: customer_id, dtype: int64"
      ]
     },
     "execution_count": 39,
     "metadata": {},
     "output_type": "execute_result"
    }
   ],
   "source": [
    "customers_df.groupby(by=\"customer_state\").customer_id.nunique().sort_values(ascending=False)"
   ]
  },
  {
   "cell_type": "markdown",
   "id": "2ffac762-7b91-47f6-a7c2-1edb188ed559",
   "metadata": {},
   "source": [
    "##**Explore Orders_df**"
   ]
  },
  {
   "cell_type": "code",
   "execution_count": 40,
   "id": "b5b57859-f4aa-4bac-ac7b-e8d801568a68",
   "metadata": {},
   "outputs": [
    {
     "data": {
      "text/html": [
       "<div>\n",
       "<style scoped>\n",
       "    .dataframe tbody tr th:only-of-type {\n",
       "        vertical-align: middle;\n",
       "    }\n",
       "\n",
       "    .dataframe tbody tr th {\n",
       "        vertical-align: top;\n",
       "    }\n",
       "\n",
       "    .dataframe thead th {\n",
       "        text-align: right;\n",
       "    }\n",
       "</style>\n",
       "<table border=\"1\" class=\"dataframe\">\n",
       "  <thead>\n",
       "    <tr style=\"text-align: right;\">\n",
       "      <th></th>\n",
       "      <th>order_id</th>\n",
       "      <th>customer_id</th>\n",
       "      <th>order_status</th>\n",
       "      <th>order_purchase_timestamp</th>\n",
       "      <th>order_approved_at</th>\n",
       "      <th>order_delivered_carrier_date</th>\n",
       "      <th>order_delivered_customer_date</th>\n",
       "      <th>order_estimated_delivery_date</th>\n",
       "    </tr>\n",
       "  </thead>\n",
       "  <tbody>\n",
       "    <tr>\n",
       "      <th>41142</th>\n",
       "      <td>34ac523be174284d7b9df8e47bce2040</td>\n",
       "      <td>e143678e76c1279b51f6fb83c205b7d1</td>\n",
       "      <td>delivered</td>\n",
       "      <td>2017-01-15 14:15:04</td>\n",
       "      <td>2017-01-15 14:30:14</td>\n",
       "      <td>2017-01-16 08:43:35</td>\n",
       "      <td>2017-01-20 10:05:52</td>\n",
       "      <td>2017-02-24</td>\n",
       "    </tr>\n",
       "    <tr>\n",
       "      <th>96431</th>\n",
       "      <td>d99bb25e168c15db3113f5d5db1ee1b4</td>\n",
       "      <td>1686681362ccf73b78b830f830146da4</td>\n",
       "      <td>delivered</td>\n",
       "      <td>2018-02-09 14:12:02</td>\n",
       "      <td>2018-02-10 02:49:22</td>\n",
       "      <td>2018-02-21 10:09:06</td>\n",
       "      <td>2018-02-27 12:42:21</td>\n",
       "      <td>2018-03-13</td>\n",
       "    </tr>\n",
       "    <tr>\n",
       "      <th>40429</th>\n",
       "      <td>cccd803c5e04b33ad226cf7beae0f127</td>\n",
       "      <td>940d5acb47467a9a136576b8ec497c29</td>\n",
       "      <td>delivered</td>\n",
       "      <td>2017-06-02 15:35:29</td>\n",
       "      <td>2017-06-03 02:15:11</td>\n",
       "      <td>2017-06-05 13:00:42</td>\n",
       "      <td>2017-06-06 13:50:45</td>\n",
       "      <td>2017-06-19</td>\n",
       "    </tr>\n",
       "    <tr>\n",
       "      <th>68618</th>\n",
       "      <td>5af5569e61eae15d683a20b707882e60</td>\n",
       "      <td>65f3fd33198f167c161230c7aacfb2ad</td>\n",
       "      <td>delivered</td>\n",
       "      <td>2018-07-17 18:10:00</td>\n",
       "      <td>2018-07-17 18:21:33</td>\n",
       "      <td>2018-07-18 15:51:00</td>\n",
       "      <td>2018-07-23 17:48:32</td>\n",
       "      <td>2018-08-10</td>\n",
       "    </tr>\n",
       "    <tr>\n",
       "      <th>96863</th>\n",
       "      <td>157e702ae4f88625094537c5323fa84c</td>\n",
       "      <td>48706412b33b8cf6c6792985b1e1b028</td>\n",
       "      <td>delivered</td>\n",
       "      <td>2017-08-29 14:02:47</td>\n",
       "      <td>2017-08-29 14:15:25</td>\n",
       "      <td>2017-08-30 19:00:16</td>\n",
       "      <td>2017-09-01 16:50:05</td>\n",
       "      <td>2017-09-12</td>\n",
       "    </tr>\n",
       "  </tbody>\n",
       "</table>\n",
       "</div>"
      ],
      "text/plain": [
       "                               order_id                       customer_id  \\\n",
       "41142  34ac523be174284d7b9df8e47bce2040  e143678e76c1279b51f6fb83c205b7d1   \n",
       "96431  d99bb25e168c15db3113f5d5db1ee1b4  1686681362ccf73b78b830f830146da4   \n",
       "40429  cccd803c5e04b33ad226cf7beae0f127  940d5acb47467a9a136576b8ec497c29   \n",
       "68618  5af5569e61eae15d683a20b707882e60  65f3fd33198f167c161230c7aacfb2ad   \n",
       "96863  157e702ae4f88625094537c5323fa84c  48706412b33b8cf6c6792985b1e1b028   \n",
       "\n",
       "      order_status order_purchase_timestamp   order_approved_at  \\\n",
       "41142    delivered      2017-01-15 14:15:04 2017-01-15 14:30:14   \n",
       "96431    delivered      2018-02-09 14:12:02 2018-02-10 02:49:22   \n",
       "40429    delivered      2017-06-02 15:35:29 2017-06-03 02:15:11   \n",
       "68618    delivered      2018-07-17 18:10:00 2018-07-17 18:21:33   \n",
       "96863    delivered      2017-08-29 14:02:47 2017-08-29 14:15:25   \n",
       "\n",
       "      order_delivered_carrier_date order_delivered_customer_date  \\\n",
       "41142          2017-01-16 08:43:35           2017-01-20 10:05:52   \n",
       "96431          2018-02-21 10:09:06           2018-02-27 12:42:21   \n",
       "40429          2017-06-05 13:00:42           2017-06-06 13:50:45   \n",
       "68618          2018-07-18 15:51:00           2018-07-23 17:48:32   \n",
       "96863          2017-08-30 19:00:16           2017-09-01 16:50:05   \n",
       "\n",
       "      order_estimated_delivery_date  \n",
       "41142                    2017-02-24  \n",
       "96431                    2018-03-13  \n",
       "40429                    2017-06-19  \n",
       "68618                    2018-08-10  \n",
       "96863                    2017-09-12  "
      ]
     },
     "execution_count": 40,
     "metadata": {},
     "output_type": "execute_result"
    }
   ],
   "source": [
    "orders_df.sample(5)"
   ]
  },
  {
   "cell_type": "code",
   "execution_count": 41,
   "id": "a56ab2aa-9232-4fc0-8733-38c3504a5e86",
   "metadata": {},
   "outputs": [
    {
     "data": {
      "text/html": [
       "<div>\n",
       "<style scoped>\n",
       "    .dataframe tbody tr th:only-of-type {\n",
       "        vertical-align: middle;\n",
       "    }\n",
       "\n",
       "    .dataframe tbody tr th {\n",
       "        vertical-align: top;\n",
       "    }\n",
       "\n",
       "    .dataframe thead th {\n",
       "        text-align: right;\n",
       "    }\n",
       "</style>\n",
       "<table border=\"1\" class=\"dataframe\">\n",
       "  <thead>\n",
       "    <tr style=\"text-align: right;\">\n",
       "      <th></th>\n",
       "      <th>order_id</th>\n",
       "      <th>customer_id</th>\n",
       "      <th>order_status</th>\n",
       "      <th>order_purchase_timestamp</th>\n",
       "      <th>order_approved_at</th>\n",
       "      <th>order_delivered_carrier_date</th>\n",
       "      <th>order_delivered_customer_date</th>\n",
       "      <th>order_estimated_delivery_date</th>\n",
       "    </tr>\n",
       "  </thead>\n",
       "  <tbody>\n",
       "    <tr>\n",
       "      <th>35914</th>\n",
       "      <td>bf240a39797d69697564087a6318e35d</td>\n",
       "      <td>86051e19d1625750a4c6ce98e6d25659</td>\n",
       "      <td>delivered</td>\n",
       "      <td>2018-03-28 14:15:59</td>\n",
       "      <td>2018-03-28 14:30:19</td>\n",
       "      <td>2018-03-29 16:12:53</td>\n",
       "      <td>2018-04-11 18:51:51</td>\n",
       "      <td>2018-04-19</td>\n",
       "    </tr>\n",
       "    <tr>\n",
       "      <th>21195</th>\n",
       "      <td>8ddafc9e62967101391805e620db71be</td>\n",
       "      <td>44c4ac277a12247d482f44db1d09c764</td>\n",
       "      <td>delivered</td>\n",
       "      <td>2018-08-08 09:52:44</td>\n",
       "      <td>2018-08-08 10:05:16</td>\n",
       "      <td>2018-08-08 13:20:00</td>\n",
       "      <td>2018-08-16 20:06:52</td>\n",
       "      <td>2018-09-05</td>\n",
       "    </tr>\n",
       "    <tr>\n",
       "      <th>22299</th>\n",
       "      <td>d55ece0f3afa9b57b5a78038efddbbbc</td>\n",
       "      <td>f027649d8f2a7b182522d5da3cd4f010</td>\n",
       "      <td>delivered</td>\n",
       "      <td>2017-05-22 17:20:34</td>\n",
       "      <td>2017-05-24 02:50:18</td>\n",
       "      <td>2017-05-24 09:44:28</td>\n",
       "      <td>2017-05-25 10:40:49</td>\n",
       "      <td>2017-06-06</td>\n",
       "    </tr>\n",
       "    <tr>\n",
       "      <th>58867</th>\n",
       "      <td>14653f2c907e27b1222157246d382c28</td>\n",
       "      <td>120dd4afde62b0c8dfe915a1597950bd</td>\n",
       "      <td>delivered</td>\n",
       "      <td>2017-09-20 17:30:42</td>\n",
       "      <td>2017-09-22 04:17:17</td>\n",
       "      <td>2017-09-22 21:22:50</td>\n",
       "      <td>2017-09-28 13:34:12</td>\n",
       "      <td>2017-10-11</td>\n",
       "    </tr>\n",
       "    <tr>\n",
       "      <th>11473</th>\n",
       "      <td>cd2457140ff84327d7d7030053b80fce</td>\n",
       "      <td>5508dabf6c08f39d67b8d1bd41b121f9</td>\n",
       "      <td>delivered</td>\n",
       "      <td>2018-08-04 15:45:19</td>\n",
       "      <td>2018-08-04 15:55:14</td>\n",
       "      <td>2018-08-07 05:28:00</td>\n",
       "      <td>2018-08-09 17:26:48</td>\n",
       "      <td>2018-08-15</td>\n",
       "    </tr>\n",
       "  </tbody>\n",
       "</table>\n",
       "</div>"
      ],
      "text/plain": [
       "                               order_id                       customer_id  \\\n",
       "35914  bf240a39797d69697564087a6318e35d  86051e19d1625750a4c6ce98e6d25659   \n",
       "21195  8ddafc9e62967101391805e620db71be  44c4ac277a12247d482f44db1d09c764   \n",
       "22299  d55ece0f3afa9b57b5a78038efddbbbc  f027649d8f2a7b182522d5da3cd4f010   \n",
       "58867  14653f2c907e27b1222157246d382c28  120dd4afde62b0c8dfe915a1597950bd   \n",
       "11473  cd2457140ff84327d7d7030053b80fce  5508dabf6c08f39d67b8d1bd41b121f9   \n",
       "\n",
       "      order_status order_purchase_timestamp   order_approved_at  \\\n",
       "35914    delivered      2018-03-28 14:15:59 2018-03-28 14:30:19   \n",
       "21195    delivered      2018-08-08 09:52:44 2018-08-08 10:05:16   \n",
       "22299    delivered      2017-05-22 17:20:34 2017-05-24 02:50:18   \n",
       "58867    delivered      2017-09-20 17:30:42 2017-09-22 04:17:17   \n",
       "11473    delivered      2018-08-04 15:45:19 2018-08-04 15:55:14   \n",
       "\n",
       "      order_delivered_carrier_date order_delivered_customer_date  \\\n",
       "35914          2018-03-29 16:12:53           2018-04-11 18:51:51   \n",
       "21195          2018-08-08 13:20:00           2018-08-16 20:06:52   \n",
       "22299          2017-05-24 09:44:28           2017-05-25 10:40:49   \n",
       "58867          2017-09-22 21:22:50           2017-09-28 13:34:12   \n",
       "11473          2018-08-07 05:28:00           2018-08-09 17:26:48   \n",
       "\n",
       "      order_estimated_delivery_date  \n",
       "35914                    2018-04-19  \n",
       "21195                    2018-09-05  \n",
       "22299                    2017-06-06  \n",
       "58867                    2017-10-11  \n",
       "11473                    2018-08-15  "
      ]
     },
     "execution_count": 41,
     "metadata": {},
     "output_type": "execute_result"
    }
   ],
   "source": [
    "orders_df.sample(5)"
   ]
  },
  {
   "cell_type": "code",
   "execution_count": 42,
   "id": "10cc57a4-25b7-476c-9767-8ce715ff9b0f",
   "metadata": {},
   "outputs": [
    {
     "data": {
      "text/html": [
       "<div>\n",
       "<style scoped>\n",
       "    .dataframe tbody tr th:only-of-type {\n",
       "        vertical-align: middle;\n",
       "    }\n",
       "\n",
       "    .dataframe tbody tr th {\n",
       "        vertical-align: top;\n",
       "    }\n",
       "\n",
       "    .dataframe thead th {\n",
       "        text-align: right;\n",
       "    }\n",
       "</style>\n",
       "<table border=\"1\" class=\"dataframe\">\n",
       "  <thead>\n",
       "    <tr style=\"text-align: right;\">\n",
       "      <th></th>\n",
       "      <th>order_id</th>\n",
       "      <th>customer_id</th>\n",
       "      <th>order_status</th>\n",
       "      <th>order_purchase_timestamp</th>\n",
       "      <th>order_approved_at</th>\n",
       "      <th>order_delivered_carrier_date</th>\n",
       "      <th>order_delivered_customer_date</th>\n",
       "      <th>order_estimated_delivery_date</th>\n",
       "    </tr>\n",
       "  </thead>\n",
       "  <tbody>\n",
       "    <tr>\n",
       "      <th>count</th>\n",
       "      <td>99441</td>\n",
       "      <td>99441</td>\n",
       "      <td>99441</td>\n",
       "      <td>99441</td>\n",
       "      <td>99441</td>\n",
       "      <td>99441</td>\n",
       "      <td>99441</td>\n",
       "      <td>99441</td>\n",
       "    </tr>\n",
       "    <tr>\n",
       "      <th>unique</th>\n",
       "      <td>99441</td>\n",
       "      <td>99441</td>\n",
       "      <td>8</td>\n",
       "      <td>NaN</td>\n",
       "      <td>NaN</td>\n",
       "      <td>NaN</td>\n",
       "      <td>NaN</td>\n",
       "      <td>NaN</td>\n",
       "    </tr>\n",
       "    <tr>\n",
       "      <th>top</th>\n",
       "      <td>66dea50a8b16d9b4dee7af250b4be1a5</td>\n",
       "      <td>edb027a75a1449115f6b43211ae02a24</td>\n",
       "      <td>delivered</td>\n",
       "      <td>NaN</td>\n",
       "      <td>NaN</td>\n",
       "      <td>NaN</td>\n",
       "      <td>NaN</td>\n",
       "      <td>NaN</td>\n",
       "    </tr>\n",
       "    <tr>\n",
       "      <th>freq</th>\n",
       "      <td>1</td>\n",
       "      <td>1</td>\n",
       "      <td>96478</td>\n",
       "      <td>NaN</td>\n",
       "      <td>NaN</td>\n",
       "      <td>NaN</td>\n",
       "      <td>NaN</td>\n",
       "      <td>NaN</td>\n",
       "    </tr>\n",
       "    <tr>\n",
       "      <th>mean</th>\n",
       "      <td>NaN</td>\n",
       "      <td>NaN</td>\n",
       "      <td>NaN</td>\n",
       "      <td>2017-12-31 08:43:12.776581120</td>\n",
       "      <td>2017-12-31 17:42:41.392674816</td>\n",
       "      <td>2018-01-05 01:00:33.728884480</td>\n",
       "      <td>2018-01-14 15:01:35.991602944</td>\n",
       "      <td>2018-01-24 03:08:37.730111232</td>\n",
       "    </tr>\n",
       "    <tr>\n",
       "      <th>min</th>\n",
       "      <td>NaN</td>\n",
       "      <td>NaN</td>\n",
       "      <td>NaN</td>\n",
       "      <td>2016-09-04 21:15:19</td>\n",
       "      <td>2016-09-15 12:16:38</td>\n",
       "      <td>2016-10-08 10:34:01</td>\n",
       "      <td>2016-10-11 13:46:32</td>\n",
       "      <td>2016-09-30 00:00:00</td>\n",
       "    </tr>\n",
       "    <tr>\n",
       "      <th>25%</th>\n",
       "      <td>NaN</td>\n",
       "      <td>NaN</td>\n",
       "      <td>NaN</td>\n",
       "      <td>2017-09-12 14:46:19</td>\n",
       "      <td>2017-09-12 22:10:19</td>\n",
       "      <td>2017-09-18 13:50:17</td>\n",
       "      <td>2017-09-26 00:48:43</td>\n",
       "      <td>2017-10-03 00:00:00</td>\n",
       "    </tr>\n",
       "    <tr>\n",
       "      <th>50%</th>\n",
       "      <td>NaN</td>\n",
       "      <td>NaN</td>\n",
       "      <td>NaN</td>\n",
       "      <td>2018-01-18 23:04:36</td>\n",
       "      <td>2018-01-19 09:53:17</td>\n",
       "      <td>2018-01-24 17:49:18</td>\n",
       "      <td>2018-02-02 20:08:54</td>\n",
       "      <td>2018-02-15 00:00:00</td>\n",
       "    </tr>\n",
       "    <tr>\n",
       "      <th>75%</th>\n",
       "      <td>NaN</td>\n",
       "      <td>NaN</td>\n",
       "      <td>NaN</td>\n",
       "      <td>2018-05-04 15:42:16</td>\n",
       "      <td>2018-05-04 20:15:17</td>\n",
       "      <td>2018-05-08 13:51:00</td>\n",
       "      <td>2018-05-15 23:21:53</td>\n",
       "      <td>2018-05-25 00:00:00</td>\n",
       "    </tr>\n",
       "    <tr>\n",
       "      <th>max</th>\n",
       "      <td>NaN</td>\n",
       "      <td>NaN</td>\n",
       "      <td>NaN</td>\n",
       "      <td>2018-10-17 17:30:18</td>\n",
       "      <td>2018-09-03 17:40:06</td>\n",
       "      <td>2018-09-11 19:48:28</td>\n",
       "      <td>2018-10-17 13:22:46</td>\n",
       "      <td>2018-11-12 00:00:00</td>\n",
       "    </tr>\n",
       "  </tbody>\n",
       "</table>\n",
       "</div>"
      ],
      "text/plain": [
       "                                order_id                       customer_id  \\\n",
       "count                              99441                             99441   \n",
       "unique                             99441                             99441   \n",
       "top     66dea50a8b16d9b4dee7af250b4be1a5  edb027a75a1449115f6b43211ae02a24   \n",
       "freq                                   1                                 1   \n",
       "mean                                 NaN                               NaN   \n",
       "min                                  NaN                               NaN   \n",
       "25%                                  NaN                               NaN   \n",
       "50%                                  NaN                               NaN   \n",
       "75%                                  NaN                               NaN   \n",
       "max                                  NaN                               NaN   \n",
       "\n",
       "       order_status       order_purchase_timestamp  \\\n",
       "count         99441                          99441   \n",
       "unique            8                            NaN   \n",
       "top       delivered                            NaN   \n",
       "freq          96478                            NaN   \n",
       "mean            NaN  2017-12-31 08:43:12.776581120   \n",
       "min             NaN            2016-09-04 21:15:19   \n",
       "25%             NaN            2017-09-12 14:46:19   \n",
       "50%             NaN            2018-01-18 23:04:36   \n",
       "75%             NaN            2018-05-04 15:42:16   \n",
       "max             NaN            2018-10-17 17:30:18   \n",
       "\n",
       "                    order_approved_at   order_delivered_carrier_date  \\\n",
       "count                           99441                          99441   \n",
       "unique                            NaN                            NaN   \n",
       "top                               NaN                            NaN   \n",
       "freq                              NaN                            NaN   \n",
       "mean    2017-12-31 17:42:41.392674816  2018-01-05 01:00:33.728884480   \n",
       "min               2016-09-15 12:16:38            2016-10-08 10:34:01   \n",
       "25%               2017-09-12 22:10:19            2017-09-18 13:50:17   \n",
       "50%               2018-01-19 09:53:17            2018-01-24 17:49:18   \n",
       "75%               2018-05-04 20:15:17            2018-05-08 13:51:00   \n",
       "max               2018-09-03 17:40:06            2018-09-11 19:48:28   \n",
       "\n",
       "        order_delivered_customer_date  order_estimated_delivery_date  \n",
       "count                           99441                          99441  \n",
       "unique                            NaN                            NaN  \n",
       "top                               NaN                            NaN  \n",
       "freq                              NaN                            NaN  \n",
       "mean    2018-01-14 15:01:35.991602944  2018-01-24 03:08:37.730111232  \n",
       "min               2016-10-11 13:46:32            2016-09-30 00:00:00  \n",
       "25%               2017-09-26 00:48:43            2017-10-03 00:00:00  \n",
       "50%               2018-02-02 20:08:54            2018-02-15 00:00:00  \n",
       "75%               2018-05-15 23:21:53            2018-05-25 00:00:00  \n",
       "max               2018-10-17 13:22:46            2018-11-12 00:00:00  "
      ]
     },
     "execution_count": 42,
     "metadata": {},
     "output_type": "execute_result"
    }
   ],
   "source": [
    "orders_df.describe(include=\"all\")"
   ]
  },
  {
   "cell_type": "code",
   "execution_count": 43,
   "id": "50895042-baf9-44da-b266-0f19eda6a5d7",
   "metadata": {},
   "outputs": [
    {
     "data": {
      "text/plain": [
       "<Axes: >"
      ]
     },
     "execution_count": 43,
     "metadata": {},
     "output_type": "execute_result"
    },
    {
     "data": {
      "image/png": "[encoded data removed]",
      "text/plain": [
       "<Figure size 640x480 with 1 Axes>"
      ]
     },
     "metadata": {},
     "output_type": "display_data"
    }
   ],
   "source": [
    "orders_df.order_estimated_delivery_date.hist()"
   ]
  },
  {
   "cell_type": "markdown",
   "id": "09a4fbc9-ea5d-4eb2-9a2b-96257619370f",
   "metadata": {},
   "source": [
    "**Explore customer_df & orders_df**\n",
    "**Menggabungkan data customers_df dan orders_df**"
   ]
  },
  {
   "cell_type": "code",
   "execution_count": 44,
   "id": "74392731-deed-4020-8211-82584476a5c5",
   "metadata": {},
   "outputs": [
    {
     "data": {
      "text/html": [
       "<div>\n",
       "<style scoped>\n",
       "    .dataframe tbody tr th:only-of-type {\n",
       "        vertical-align: middle;\n",
       "    }\n",
       "\n",
       "    .dataframe tbody tr th {\n",
       "        vertical-align: top;\n",
       "    }\n",
       "\n",
       "    .dataframe thead th {\n",
       "        text-align: right;\n",
       "    }\n",
       "</style>\n",
       "<table border=\"1\" class=\"dataframe\">\n",
       "  <thead>\n",
       "    <tr style=\"text-align: right;\">\n",
       "      <th></th>\n",
       "      <th>order_id</th>\n",
       "      <th>customer_id</th>\n",
       "      <th>order_status</th>\n",
       "      <th>order_purchase_timestamp</th>\n",
       "      <th>order_approved_at</th>\n",
       "      <th>order_delivered_carrier_date</th>\n",
       "      <th>order_delivered_customer_date</th>\n",
       "      <th>order_estimated_delivery_date</th>\n",
       "      <th>customer_unique_id</th>\n",
       "      <th>customer_zip_code_prefix</th>\n",
       "      <th>customer_city</th>\n",
       "      <th>customer_state</th>\n",
       "    </tr>\n",
       "  </thead>\n",
       "  <tbody>\n",
       "    <tr>\n",
       "      <th>0</th>\n",
       "      <td>e481f51cbdc54678b7cc49136f2d6af7</td>\n",
       "      <td>9ef432eb6251297304e76186b10a928d</td>\n",
       "      <td>delivered</td>\n",
       "      <td>2017-10-02 10:56:33</td>\n",
       "      <td>2017-10-02 11:07:15</td>\n",
       "      <td>2017-10-04 19:55:00</td>\n",
       "      <td>2017-10-10 21:25:13</td>\n",
       "      <td>2017-10-18</td>\n",
       "      <td>7c396fd4830fd04220f754e42b4e5bff</td>\n",
       "      <td>3149.0</td>\n",
       "      <td>Sao Paulo</td>\n",
       "      <td>SP</td>\n",
       "    </tr>\n",
       "    <tr>\n",
       "      <th>1</th>\n",
       "      <td>53cdb2fc8bc7dce0b6741e2150273451</td>\n",
       "      <td>b0830fb4747a6c6d20dea0b8c802d7ef</td>\n",
       "      <td>delivered</td>\n",
       "      <td>2018-07-24 20:41:37</td>\n",
       "      <td>2018-07-26 03:24:27</td>\n",
       "      <td>2018-07-26 14:31:00</td>\n",
       "      <td>2018-08-07 15:27:45</td>\n",
       "      <td>2018-08-13</td>\n",
       "      <td>af07308b275d755c9edb36a90c618231</td>\n",
       "      <td>47813.0</td>\n",
       "      <td>Barreiras</td>\n",
       "      <td>BA</td>\n",
       "    </tr>\n",
       "    <tr>\n",
       "      <th>2</th>\n",
       "      <td>47770eb9100c2d0c44946d9cf07ec65d</td>\n",
       "      <td>41ce2a54c0b03bf3443c3d931a367089</td>\n",
       "      <td>delivered</td>\n",
       "      <td>2018-08-08 08:38:49</td>\n",
       "      <td>2018-08-08 08:55:23</td>\n",
       "      <td>2018-08-08 13:50:00</td>\n",
       "      <td>2018-08-17 18:06:29</td>\n",
       "      <td>2018-09-04</td>\n",
       "      <td>3a653a41f6f9fc3d2a113cf8398680e8</td>\n",
       "      <td>75265.0</td>\n",
       "      <td>Vianopolis</td>\n",
       "      <td>GO</td>\n",
       "    </tr>\n",
       "    <tr>\n",
       "      <th>3</th>\n",
       "      <td>949d5b44dbf5de918fe9c16f97b45f8a</td>\n",
       "      <td>f88197465ea7920adcdbec7375364d82</td>\n",
       "      <td>delivered</td>\n",
       "      <td>2017-11-18 19:28:06</td>\n",
       "      <td>2017-11-18 19:45:59</td>\n",
       "      <td>2017-11-22 13:39:59</td>\n",
       "      <td>2017-12-02 00:28:42</td>\n",
       "      <td>2017-12-15</td>\n",
       "      <td>7c142cf63193a1473d2e66489a9ae977</td>\n",
       "      <td>59296.0</td>\n",
       "      <td>Sao Goncalo Do Amarante</td>\n",
       "      <td>RN</td>\n",
       "    </tr>\n",
       "    <tr>\n",
       "      <th>4</th>\n",
       "      <td>ad21c59c0840e6cb83a9ceb5573f8159</td>\n",
       "      <td>8ab97904e6daea8866dbdbc4fb7aad2c</td>\n",
       "      <td>delivered</td>\n",
       "      <td>2018-02-13 21:18:39</td>\n",
       "      <td>2018-02-13 22:20:29</td>\n",
       "      <td>2018-02-14 19:46:34</td>\n",
       "      <td>2018-02-16 18:17:02</td>\n",
       "      <td>2018-02-26</td>\n",
       "      <td>72632f0f9dd73dfee390c9b22eb56dd6</td>\n",
       "      <td>9195.0</td>\n",
       "      <td>Santo Andre</td>\n",
       "      <td>SP</td>\n",
       "    </tr>\n",
       "  </tbody>\n",
       "</table>\n",
       "</div>"
      ],
      "text/plain": [
       "                           order_id                       customer_id  \\\n",
       "0  e481f51cbdc54678b7cc49136f2d6af7  9ef432eb6251297304e76186b10a928d   \n",
       "1  53cdb2fc8bc7dce0b6741e2150273451  b0830fb4747a6c6d20dea0b8c802d7ef   \n",
       "2  47770eb9100c2d0c44946d9cf07ec65d  41ce2a54c0b03bf3443c3d931a367089   \n",
       "3  949d5b44dbf5de918fe9c16f97b45f8a  f88197465ea7920adcdbec7375364d82   \n",
       "4  ad21c59c0840e6cb83a9ceb5573f8159  8ab97904e6daea8866dbdbc4fb7aad2c   \n",
       "\n",
       "  order_status order_purchase_timestamp   order_approved_at  \\\n",
       "0    delivered      2017-10-02 10:56:33 2017-10-02 11:07:15   \n",
       "1    delivered      2018-07-24 20:41:37 2018-07-26 03:24:27   \n",
       "2    delivered      2018-08-08 08:38:49 2018-08-08 08:55:23   \n",
       "3    delivered      2017-11-18 19:28:06 2017-11-18 19:45:59   \n",
       "4    delivered      2018-02-13 21:18:39 2018-02-13 22:20:29   \n",
       "\n",
       "  order_delivered_carrier_date order_delivered_customer_date  \\\n",
       "0          2017-10-04 19:55:00           2017-10-10 21:25:13   \n",
       "1          2018-07-26 14:31:00           2018-08-07 15:27:45   \n",
       "2          2018-08-08 13:50:00           2018-08-17 18:06:29   \n",
       "3          2017-11-22 13:39:59           2017-12-02 00:28:42   \n",
       "4          2018-02-14 19:46:34           2018-02-16 18:17:02   \n",
       "\n",
       "  order_estimated_delivery_date                customer_unique_id  \\\n",
       "0                    2017-10-18  7c396fd4830fd04220f754e42b4e5bff   \n",
       "1                    2018-08-13  af07308b275d755c9edb36a90c618231   \n",
       "2                    2018-09-04  3a653a41f6f9fc3d2a113cf8398680e8   \n",
       "3                    2017-12-15  7c142cf63193a1473d2e66489a9ae977   \n",
       "4                    2018-02-26  72632f0f9dd73dfee390c9b22eb56dd6   \n",
       "\n",
       "   customer_zip_code_prefix            customer_city customer_state  \n",
       "0                    3149.0                Sao Paulo             SP  \n",
       "1                   47813.0                Barreiras             BA  \n",
       "2                   75265.0               Vianopolis             GO  \n",
       "3                   59296.0  Sao Goncalo Do Amarante             RN  \n",
       "4                    9195.0              Santo Andre             SP  "
      ]
     },
     "execution_count": 44,
     "metadata": {},
     "output_type": "execute_result"
    }
   ],
   "source": [
    "orders_customers_df = pd.merge(\n",
    "    left=orders_df,\n",
    "    right=customers_df,\n",
    "    how=\"left\",\n",
    "    left_on=\"customer_id\",\n",
    "    right_on=\"customer_id\"\n",
    ")\n",
    "orders_customers_df.head()\n",
    "     "
   ]
  },
  {
   "cell_type": "code",
   "execution_count": 45,
   "id": "12946178-d72d-48db-9dbd-9005937a55b5",
   "metadata": {},
   "outputs": [
    {
     "data": {
      "text/plain": [
       "customer_city\n",
       "Sao Paulo                14971\n",
       "Rio De Janeiro            6611\n",
       "Belo Horizonte            2671\n",
       "Brasilia                  2066\n",
       "Curitiba                  1462\n",
       "Campinas                  1397\n",
       "Porto Alegre              1326\n",
       "Salvador                  1208\n",
       "Guarulhos                 1151\n",
       "Sao Bernardo Do Campo      908\n",
       "Name: order_id, dtype: int64"
      ]
     },
     "execution_count": 45,
     "metadata": {},
     "output_type": "execute_result"
    }
   ],
   "source": [
    "orders_customers_df.groupby(by=\"customer_city\").order_id.nunique().sort_values(ascending=False).head(10)"
   ]
  },
  {
   "cell_type": "code",
   "execution_count": 46,
   "id": "51f97bb7-4e4d-4eaf-aa9c-1236dd3ec6a5",
   "metadata": {},
   "outputs": [
    {
     "data": {
      "text/plain": [
       "customer_state\n",
       "SP    40295\n",
       "RJ    12377\n",
       "MG    11255\n",
       "RS     5277\n",
       "PR     4882\n",
       "SC     3529\n",
       "BA     3276\n",
       "DF     2073\n",
       "ES     1963\n",
       "GO     1951\n",
       "PE     1604\n",
       "CE     1311\n",
       "PA      949\n",
       "MT      875\n",
       "MA      725\n",
       "MS      693\n",
       "PB      519\n",
       "PI      482\n",
       "RN      474\n",
       "AL      401\n",
       "SE      341\n",
       "TO      273\n",
       "RO      239\n",
       "AM      143\n",
       "AC       77\n",
       "AP       67\n",
       "RR       45\n",
       "Name: order_id, dtype: int64"
      ]
     },
     "execution_count": 46,
     "metadata": {},
     "output_type": "execute_result"
    }
   ],
   "source": [
    "orders_customers_df.groupby(by=\"customer_state\").order_id.nunique().sort_values(ascending=False)"
   ]
  },
  {
   "cell_type": "code",
   "execution_count": 47,
   "id": "2df3b3b1-f411-4cbe-b392-57708aaf7698",
   "metadata": {},
   "outputs": [],
   "source": [
    "orders_customers_df.to_csv(\"main_data.csv\", index=False)"
   ]
  },
  {
   "cell_type": "markdown",
   "id": "918b1d5d-4409-4442-8a73-8287226288ca",
   "metadata": {},
   "source": [
    "# Visualization & Explanatory Analysis\n",
    "### **1.Apakah ada perbedaan rata-rata keterlambatan pengiriman antar kota? Kota mana yang paling sering mengalami keterlambatan pengiriman?**"
   ]
  },
  {
   "cell_type": "code",
   "execution_count": 48,
   "id": "56ffeaa8-a8a1-4689-9453-b033e2d705ea",
   "metadata": {},
   "outputs": [
    {
     "data": {
      "text/html": [
       "<div>\n",
       "<style scoped>\n",
       "    .dataframe tbody tr th:only-of-type {\n",
       "        vertical-align: middle;\n",
       "    }\n",
       "\n",
       "    .dataframe tbody tr th {\n",
       "        vertical-align: top;\n",
       "    }\n",
       "\n",
       "    .dataframe thead th {\n",
       "        text-align: right;\n",
       "    }\n",
       "</style>\n",
       "<table border=\"1\" class=\"dataframe\">\n",
       "  <thead>\n",
       "    <tr style=\"text-align: right;\">\n",
       "      <th></th>\n",
       "      <th>order_id</th>\n",
       "      <th>customer_id</th>\n",
       "      <th>order_status</th>\n",
       "      <th>order_purchase_timestamp</th>\n",
       "      <th>order_approved_at</th>\n",
       "      <th>order_delivered_carrier_date</th>\n",
       "      <th>order_delivered_customer_date</th>\n",
       "      <th>order_estimated_delivery_date</th>\n",
       "      <th>customer_unique_id</th>\n",
       "      <th>customer_zip_code_prefix</th>\n",
       "      <th>customer_city</th>\n",
       "      <th>customer_state</th>\n",
       "    </tr>\n",
       "  </thead>\n",
       "  <tbody>\n",
       "    <tr>\n",
       "      <th>7175</th>\n",
       "      <td>4dca9eeee0f0444664e0bb2522fea8c9</td>\n",
       "      <td>ef9ef05d74ccfb0d256e22fcfce20a03</td>\n",
       "      <td>delivered</td>\n",
       "      <td>2018-06-17 22:34:48</td>\n",
       "      <td>2018-06-17 22:58:53</td>\n",
       "      <td>2018-06-18 10:55:00</td>\n",
       "      <td>2018-07-03 17:05:11</td>\n",
       "      <td>2018-07-18</td>\n",
       "      <td>c1651d00ccc48df81e8ddc03589968fa</td>\n",
       "      <td>12425.0</td>\n",
       "      <td>Pindamonhangaba</td>\n",
       "      <td>SP</td>\n",
       "    </tr>\n",
       "    <tr>\n",
       "      <th>35427</th>\n",
       "      <td>790710021a014a0263cef04999d451ee</td>\n",
       "      <td>fca8329f8acb14ce34528309daebceab</td>\n",
       "      <td>delivered</td>\n",
       "      <td>2018-05-28 11:58:55</td>\n",
       "      <td>2018-05-28 12:12:32</td>\n",
       "      <td>2018-05-29 15:18:00</td>\n",
       "      <td>2018-06-12 21:04:33</td>\n",
       "      <td>2018-07-19</td>\n",
       "      <td>aa6936241d74e5633525f9ef4c85321a</td>\n",
       "      <td>22715.0</td>\n",
       "      <td>Rio De Janeiro</td>\n",
       "      <td>RJ</td>\n",
       "    </tr>\n",
       "    <tr>\n",
       "      <th>72398</th>\n",
       "      <td>1f9624a22a45c44073523bcf6f1c47a2</td>\n",
       "      <td>bbdbc21c0d067bd705b5aaff781709c9</td>\n",
       "      <td>canceled</td>\n",
       "      <td>2017-07-31 16:05:08</td>\n",
       "      <td>2017-07-31 16:23:27</td>\n",
       "      <td>2017-11-10 00:22:00</td>\n",
       "      <td>2017-11-16 16:34:43</td>\n",
       "      <td>2017-08-18</td>\n",
       "      <td>fb0ee3da1096d44aeb3bda500a7d33d0</td>\n",
       "      <td>37280.0</td>\n",
       "      <td>Candeias</td>\n",
       "      <td>MG</td>\n",
       "    </tr>\n",
       "    <tr>\n",
       "      <th>30254</th>\n",
       "      <td>50a98bed547040031825f02f6606c7d7</td>\n",
       "      <td>913b08f751244e50dd1e3418724e77b9</td>\n",
       "      <td>delivered</td>\n",
       "      <td>2018-07-13 17:55:51</td>\n",
       "      <td>2018-07-17 04:31:53</td>\n",
       "      <td>2018-07-18 09:19:00</td>\n",
       "      <td>2018-07-23 11:52:38</td>\n",
       "      <td>2018-08-01</td>\n",
       "      <td>3dfb55714eb4271250aaaf67bf5073f5</td>\n",
       "      <td>27700.0</td>\n",
       "      <td>Vassouras</td>\n",
       "      <td>RJ</td>\n",
       "    </tr>\n",
       "    <tr>\n",
       "      <th>29623</th>\n",
       "      <td>e3801209a2584fae1500a65188c9a60f</td>\n",
       "      <td>e11d54cdd142275dd29cdab42fe2c086</td>\n",
       "      <td>delivered</td>\n",
       "      <td>2018-02-15 14:25:03</td>\n",
       "      <td>2018-02-15 14:35:37</td>\n",
       "      <td>2018-02-16 16:24:45</td>\n",
       "      <td>2018-03-06 15:04:23</td>\n",
       "      <td>2018-03-15</td>\n",
       "      <td>0b39f8c1a22bf752a4a1c6784b352e1b</td>\n",
       "      <td>78065.0</td>\n",
       "      <td>Cuiaba</td>\n",
       "      <td>MT</td>\n",
       "    </tr>\n",
       "  </tbody>\n",
       "</table>\n",
       "</div>"
      ],
      "text/plain": [
       "                               order_id                       customer_id  \\\n",
       "7175   4dca9eeee0f0444664e0bb2522fea8c9  ef9ef05d74ccfb0d256e22fcfce20a03   \n",
       "35427  790710021a014a0263cef04999d451ee  fca8329f8acb14ce34528309daebceab   \n",
       "72398  1f9624a22a45c44073523bcf6f1c47a2  bbdbc21c0d067bd705b5aaff781709c9   \n",
       "30254  50a98bed547040031825f02f6606c7d7  913b08f751244e50dd1e3418724e77b9   \n",
       "29623  e3801209a2584fae1500a65188c9a60f  e11d54cdd142275dd29cdab42fe2c086   \n",
       "\n",
       "      order_status order_purchase_timestamp   order_approved_at  \\\n",
       "7175     delivered      2018-06-17 22:34:48 2018-06-17 22:58:53   \n",
       "35427    delivered      2018-05-28 11:58:55 2018-05-28 12:12:32   \n",
       "72398     canceled      2017-07-31 16:05:08 2017-07-31 16:23:27   \n",
       "30254    delivered      2018-07-13 17:55:51 2018-07-17 04:31:53   \n",
       "29623    delivered      2018-02-15 14:25:03 2018-02-15 14:35:37   \n",
       "\n",
       "      order_delivered_carrier_date order_delivered_customer_date  \\\n",
       "7175           2018-06-18 10:55:00           2018-07-03 17:05:11   \n",
       "35427          2018-05-29 15:18:00           2018-06-12 21:04:33   \n",
       "72398          2017-11-10 00:22:00           2017-11-16 16:34:43   \n",
       "30254          2018-07-18 09:19:00           2018-07-23 11:52:38   \n",
       "29623          2018-02-16 16:24:45           2018-03-06 15:04:23   \n",
       "\n",
       "      order_estimated_delivery_date                customer_unique_id  \\\n",
       "7175                     2018-07-18  c1651d00ccc48df81e8ddc03589968fa   \n",
       "35427                    2018-07-19  aa6936241d74e5633525f9ef4c85321a   \n",
       "72398                    2017-08-18  fb0ee3da1096d44aeb3bda500a7d33d0   \n",
       "30254                    2018-08-01  3dfb55714eb4271250aaaf67bf5073f5   \n",
       "29623                    2018-03-15  0b39f8c1a22bf752a4a1c6784b352e1b   \n",
       "\n",
       "       customer_zip_code_prefix    customer_city customer_state  \n",
       "7175                    12425.0  Pindamonhangaba             SP  \n",
       "35427                   22715.0   Rio De Janeiro             RJ  \n",
       "72398                   37280.0         Candeias             MG  \n",
       "30254                   27700.0        Vassouras             RJ  \n",
       "29623                   78065.0           Cuiaba             MT  "
      ]
     },
     "execution_count": 48,
     "metadata": {},
     "output_type": "execute_result"
    }
   ],
   "source": [
    "orders_customers_df.sample(5)"
   ]
  },
  {
   "cell_type": "code",
   "execution_count": 49,
   "id": "6afb567d-6d04-4e8e-94ad-fd40d5d564a1",
   "metadata": {},
   "outputs": [
    {
     "data": {
      "text/html": [
       "<div>\n",
       "<style scoped>\n",
       "    .dataframe tbody tr th:only-of-type {\n",
       "        vertical-align: middle;\n",
       "    }\n",
       "\n",
       "    .dataframe tbody tr th {\n",
       "        vertical-align: top;\n",
       "    }\n",
       "\n",
       "    .dataframe thead th {\n",
       "        text-align: right;\n",
       "    }\n",
       "</style>\n",
       "<table border=\"1\" class=\"dataframe\">\n",
       "  <thead>\n",
       "    <tr style=\"text-align: right;\">\n",
       "      <th></th>\n",
       "      <th>order_id</th>\n",
       "      <th>customer_id</th>\n",
       "      <th>order_status</th>\n",
       "      <th>order_purchase_timestamp</th>\n",
       "      <th>order_approved_at</th>\n",
       "      <th>order_delivered_carrier_date</th>\n",
       "      <th>order_delivered_customer_date</th>\n",
       "      <th>order_estimated_delivery_date</th>\n",
       "      <th>customer_unique_id</th>\n",
       "      <th>customer_zip_code_prefix</th>\n",
       "      <th>customer_city</th>\n",
       "      <th>customer_state</th>\n",
       "    </tr>\n",
       "  </thead>\n",
       "  <tbody>\n",
       "    <tr>\n",
       "      <th>0</th>\n",
       "      <td>e481f51cbdc54678b7cc49136f2d6af7</td>\n",
       "      <td>9ef432eb6251297304e76186b10a928d</td>\n",
       "      <td>delivered</td>\n",
       "      <td>2017-10-02 10:56:33</td>\n",
       "      <td>2017-10-02 11:07:15</td>\n",
       "      <td>2017-10-04 19:55:00</td>\n",
       "      <td>2017-10-10 21:25:13</td>\n",
       "      <td>2017-10-18</td>\n",
       "      <td>7c396fd4830fd04220f754e42b4e5bff</td>\n",
       "      <td>3149.0</td>\n",
       "      <td>Sao Paulo</td>\n",
       "      <td>SP</td>\n",
       "    </tr>\n",
       "    <tr>\n",
       "      <th>1</th>\n",
       "      <td>53cdb2fc8bc7dce0b6741e2150273451</td>\n",
       "      <td>b0830fb4747a6c6d20dea0b8c802d7ef</td>\n",
       "      <td>delivered</td>\n",
       "      <td>2018-07-24 20:41:37</td>\n",
       "      <td>2018-07-26 03:24:27</td>\n",
       "      <td>2018-07-26 14:31:00</td>\n",
       "      <td>2018-08-07 15:27:45</td>\n",
       "      <td>2018-08-13</td>\n",
       "      <td>af07308b275d755c9edb36a90c618231</td>\n",
       "      <td>47813.0</td>\n",
       "      <td>Barreiras</td>\n",
       "      <td>BA</td>\n",
       "    </tr>\n",
       "    <tr>\n",
       "      <th>2</th>\n",
       "      <td>47770eb9100c2d0c44946d9cf07ec65d</td>\n",
       "      <td>41ce2a54c0b03bf3443c3d931a367089</td>\n",
       "      <td>delivered</td>\n",
       "      <td>2018-08-08 08:38:49</td>\n",
       "      <td>2018-08-08 08:55:23</td>\n",
       "      <td>2018-08-08 13:50:00</td>\n",
       "      <td>2018-08-17 18:06:29</td>\n",
       "      <td>2018-09-04</td>\n",
       "      <td>3a653a41f6f9fc3d2a113cf8398680e8</td>\n",
       "      <td>75265.0</td>\n",
       "      <td>Vianopolis</td>\n",
       "      <td>GO</td>\n",
       "    </tr>\n",
       "    <tr>\n",
       "      <th>3</th>\n",
       "      <td>949d5b44dbf5de918fe9c16f97b45f8a</td>\n",
       "      <td>f88197465ea7920adcdbec7375364d82</td>\n",
       "      <td>delivered</td>\n",
       "      <td>2017-11-18 19:28:06</td>\n",
       "      <td>2017-11-18 19:45:59</td>\n",
       "      <td>2017-11-22 13:39:59</td>\n",
       "      <td>2017-12-02 00:28:42</td>\n",
       "      <td>2017-12-15</td>\n",
       "      <td>7c142cf63193a1473d2e66489a9ae977</td>\n",
       "      <td>59296.0</td>\n",
       "      <td>Sao Goncalo Do Amarante</td>\n",
       "      <td>RN</td>\n",
       "    </tr>\n",
       "    <tr>\n",
       "      <th>4</th>\n",
       "      <td>ad21c59c0840e6cb83a9ceb5573f8159</td>\n",
       "      <td>8ab97904e6daea8866dbdbc4fb7aad2c</td>\n",
       "      <td>delivered</td>\n",
       "      <td>2018-02-13 21:18:39</td>\n",
       "      <td>2018-02-13 22:20:29</td>\n",
       "      <td>2018-02-14 19:46:34</td>\n",
       "      <td>2018-02-16 18:17:02</td>\n",
       "      <td>2018-02-26</td>\n",
       "      <td>72632f0f9dd73dfee390c9b22eb56dd6</td>\n",
       "      <td>9195.0</td>\n",
       "      <td>Santo Andre</td>\n",
       "      <td>SP</td>\n",
       "    </tr>\n",
       "  </tbody>\n",
       "</table>\n",
       "</div>"
      ],
      "text/plain": [
       "                           order_id                       customer_id  \\\n",
       "0  e481f51cbdc54678b7cc49136f2d6af7  9ef432eb6251297304e76186b10a928d   \n",
       "1  53cdb2fc8bc7dce0b6741e2150273451  b0830fb4747a6c6d20dea0b8c802d7ef   \n",
       "2  47770eb9100c2d0c44946d9cf07ec65d  41ce2a54c0b03bf3443c3d931a367089   \n",
       "3  949d5b44dbf5de918fe9c16f97b45f8a  f88197465ea7920adcdbec7375364d82   \n",
       "4  ad21c59c0840e6cb83a9ceb5573f8159  8ab97904e6daea8866dbdbc4fb7aad2c   \n",
       "\n",
       "  order_status order_purchase_timestamp   order_approved_at  \\\n",
       "0    delivered      2017-10-02 10:56:33 2017-10-02 11:07:15   \n",
       "1    delivered      2018-07-24 20:41:37 2018-07-26 03:24:27   \n",
       "2    delivered      2018-08-08 08:38:49 2018-08-08 08:55:23   \n",
       "3    delivered      2017-11-18 19:28:06 2017-11-18 19:45:59   \n",
       "4    delivered      2018-02-13 21:18:39 2018-02-13 22:20:29   \n",
       "\n",
       "  order_delivered_carrier_date order_delivered_customer_date  \\\n",
       "0          2017-10-04 19:55:00           2017-10-10 21:25:13   \n",
       "1          2018-07-26 14:31:00           2018-08-07 15:27:45   \n",
       "2          2018-08-08 13:50:00           2018-08-17 18:06:29   \n",
       "3          2017-11-22 13:39:59           2017-12-02 00:28:42   \n",
       "4          2018-02-14 19:46:34           2018-02-16 18:17:02   \n",
       "\n",
       "  order_estimated_delivery_date                customer_unique_id  \\\n",
       "0                    2017-10-18  7c396fd4830fd04220f754e42b4e5bff   \n",
       "1                    2018-08-13  af07308b275d755c9edb36a90c618231   \n",
       "2                    2018-09-04  3a653a41f6f9fc3d2a113cf8398680e8   \n",
       "3                    2017-12-15  7c142cf63193a1473d2e66489a9ae977   \n",
       "4                    2018-02-26  72632f0f9dd73dfee390c9b22eb56dd6   \n",
       "\n",
       "   customer_zip_code_prefix            customer_city customer_state  \n",
       "0                    3149.0                Sao Paulo             SP  \n",
       "1                   47813.0                Barreiras             BA  \n",
       "2                   75265.0               Vianopolis             GO  \n",
       "3                   59296.0  Sao Goncalo Do Amarante             RN  \n",
       "4                    9195.0              Santo Andre             SP  "
      ]
     },
     "execution_count": 49,
     "metadata": {},
     "output_type": "execute_result"
    }
   ],
   "source": [
    "orders_customers_df.head()"
   ]
  },
  {
   "cell_type": "code",
   "execution_count": 82,
   "id": "c1eddbde-0f2c-4f44-b6a7-d17fdbaa0bf7",
   "metadata": {},
   "outputs": [],
   "source": [
    "orders_customers_df['delivery_delay'] = (orders_customers_df['order_delivered_customer_date'] - orders_customers_df['order_estimated_delivery_date']).dt.days"
   ]
  },
  {
   "cell_type": "markdown",
   "id": "d349de38-abb9-4cd3-b1e8-08c7d3d324b5",
   "metadata": {},
   "source": [
    "Menghitung selisih hari antara estimated delivery dan actual delivery"
   ]
  },
  {
   "cell_type": "code",
   "execution_count": 83,
   "id": "8ed2bff5-cf31-41eb-bbe8-788714fd6971",
   "metadata": {},
   "outputs": [],
   "source": [
    "city_delay_stats = orders_customers_df.groupby('customer_city')['delivery_delay'].mean().reset_index()"
   ]
  },
  {
   "cell_type": "code",
   "execution_count": 84,
   "id": "fc363722-b97c-4dac-889e-d9312d1377ba",
   "metadata": {},
   "outputs": [
    {
     "name": "stdout",
     "output_type": "stream",
     "text": [
      "             customer_city  delivery_delay\n",
      "3496  Sao Joao Do Itaperiu           474.0\n",
      "2652     Palmital De Minas           408.0\n",
      "2086           Lebon Regis           399.0\n",
      "2880             Pirapemas           357.0\n",
      "633            Cacimbinhas           353.0\n",
      "340                   Avai           325.0\n",
      "2108            Livramento           323.0\n",
      "113        Alto Bela Vista           262.0\n",
      "2377           Monte Gordo           242.5\n",
      "3452          Sao Fernando           224.0\n"
     ]
    }
   ],
   "source": [
    "city_delay_stats_sorted = city_delay_stats.sort_values(by='delivery_delay', ascending=False)\n",
    "\n",
    "# Menampilkan hasil\n",
    "print(city_delay_stats_sorted.head(10))"
   ]
  },
  {
   "cell_type": "markdown",
   "id": "0beb6683-bff7-4d2b-a7d5-d1252b5ce506",
   "metadata": {},
   "source": [
    "Membandingkan dengan rata-rata keseluruhan"
   ]
  },
  {
   "cell_type": "code",
   "execution_count": 85,
   "id": "82212ca1-de06-4594-a2be-e0e87d87a33b",
   "metadata": {},
   "outputs": [
    {
     "data": {
      "image/png": "[encoded data removed]",
      "text/plain": [
       "<Figure size 1200x600 with 1 Axes>"
      ]
     },
     "metadata": {},
     "output_type": "display_data"
    }
   ],
   "source": [
    "plt.figure(figsize=(12, 6))\n",
    "plt.bar(city_delay_stats_sorted.head(10)['customer_city'], city_delay_stats_sorted.head(10)['delivery_delay'], color='skyblue')\n",
    "plt.xlabel('Kota')\n",
    "plt.ylabel('Rata-rata Keterlambatan Pengiriman (hari)')\n",
    "plt.title('Top 10 Kota dengan Rata-rata Keterlambatan Pengiriman Tertinggi')\n",
    "plt.xticks(rotation=45)\n",
    "plt.tight_layout()\n",
    "plt.show()"
   ]
  },
  {
   "cell_type": "markdown",
   "id": "52765d40-51c1-4d13-9188-e82bdd1999d2",
   "metadata": {},
   "source": [
    "Kota-kota yang muncul di bagian atas tabel memiliki rata-rata keterlambatan pengiriman yang lebih tinggi dibandingkan dengan kota-kota lainnya."
   ]
  },
  {
   "cell_type": "markdown",
   "id": "54c76139-1b9f-4e6e-b5ec-2aa325cd2342",
   "metadata": {},
   "source": [
    "### **2.Berapa banyak pesanan yang terlambat dibandingkan dengan perkiraan waktu pengiriman? Apakah ada pola tertentu terkait keterlambatan ini berdasarkan waktu atau kota?**"
   ]
  },
  {
   "cell_type": "code",
   "execution_count": 95,
   "id": "8f1a9917-a33f-4001-a7f8-03f272626587",
   "metadata": {},
   "outputs": [],
   "source": [
    "orders_customers_df['delivery_delay'] = (orders_customers_df['order_delivered_customer_date'] - orders_customers_df['order_estimated_delivery_date']).dt.days"
   ]
  },
  {
   "cell_type": "code",
   "execution_count": 87,
   "id": "d7f4599e-ca0d-4f51-b451-1478a8b4d01f",
   "metadata": {},
   "outputs": [
    {
     "name": "stdout",
     "output_type": "stream",
     "text": [
      "Jumlah pesanan yang mengalami keterlambatan pengiriman: 8147\n"
     ]
    }
   ],
   "source": [
    "delayed_orders_count = (orders_customers_df['delivery_delay_days'] > 0).sum()\n",
    "\n",
    "print(f\"Jumlah pesanan yang mengalami keterlambatan pengiriman: {delayed_orders_count}\")"
   ]
  },
  {
   "cell_type": "code",
   "execution_count": 88,
   "id": "5e109f0a-3eaa-4eb0-a3d2-d7aae7fa10c8",
   "metadata": {},
   "outputs": [],
   "source": [
    "city_delay_stats = orders_customers_df.groupby('customer_city')['delivery_delay_days'].mean().reset_index()\n"
   ]
  },
  {
   "cell_type": "code",
   "execution_count": 89,
   "id": "ec7672ac-0620-4107-a2fe-ae868eaf7782",
   "metadata": {},
   "outputs": [],
   "source": [
    "city_delay_stats_sorted = city_delay_stats.sort_values(by='delivery_delay_days', ascending=False)"
   ]
  },
  {
   "cell_type": "code",
   "execution_count": 90,
   "id": "2bbcff14-0b64-49ff-bc6e-ae942fe57669",
   "metadata": {},
   "outputs": [
    {
     "name": "stdout",
     "output_type": "stream",
     "text": [
      "             customer_city  delivery_delay_days\n",
      "3496  Sao Joao Do Itaperiu                474.0\n",
      "2652     Palmital De Minas                408.0\n",
      "2086           Lebon Regis                399.0\n",
      "2880             Pirapemas                357.0\n",
      "633            Cacimbinhas                353.0\n",
      "340                   Avai                325.0\n",
      "2108            Livramento                323.0\n",
      "113        Alto Bela Vista                262.0\n",
      "2377           Monte Gordo                242.5\n",
      "3452          Sao Fernando                224.0\n"
     ]
    }
   ],
   "source": [
    "print(city_delay_stats_sorted.head(10))"
   ]
  },
  {
   "cell_type": "code",
   "execution_count": 96,
   "id": "613719b6-ef1e-46d9-ba91-281c4c75389d",
   "metadata": {},
   "outputs": [],
   "source": [
    "orders_customers_df['order_purchase_month'] = orders_customers_df['order_purchase_timestamp'].dt.to_period('M')"
   ]
  },
  {
   "cell_type": "code",
   "execution_count": 97,
   "id": "f4cb389d-bfb3-4d11-a283-440ac4a8818a",
   "metadata": {},
   "outputs": [],
   "source": [
    "delayed_orders_per_month = orders_customers_df[orders_customers_df['delivery_delay'] > 0].groupby('order_purchase_month').size()"
   ]
  },
  {
   "cell_type": "code",
   "execution_count": 100,
   "id": "7ace51a2-1120-45d4-b78a-47dfd36456d7",
   "metadata": {},
   "outputs": [
    {
     "data": {
      "image/png": "[encoded data removed]",
      "text/plain": [
       "<Figure size 1200x600 with 1 Axes>"
      ]
     },
     "metadata": {},
     "output_type": "display_data"
    }
   ],
   "source": [
    "plt.figure(figsize=(12, 6))\n",
    "delayed_orders_per_month.plot(kind='line', marker='o', color='b')\n",
    "plt.xlabel('Bulan Pembelian')\n",
    "plt.ylabel('Jumlah Pesanan dengan Keterlambatan')\n",
    "plt.title('Pola Keterlambatan Pengiriman per Bulan')\n",
    "plt.grid(True)\n",
    "plt.xticks(rotation=45)\n",
    "plt.tight_layout()\n",
    "plt.show()"
   ]
  },
  {
   "cell_type": "markdown",
   "id": "82c09dcc-0365-49a2-a5d1-ab287f27978d",
   "metadata": {},
   "source": [
    "**insight**\n",
    "Dari data diatas terlihat bahwa keterlambatan dalam pengiriman mengalami kenaikan yang sangat signifikan pada bulan oktober 2017 - maret 2018 hal ini dikarenakan lonjakan pembelian yang dilakukan oleh pembeli."
   ]
  },
  {
   "cell_type": "markdown",
   "id": "83a6d0a1-eb3b-4665-a48c-c3d4c039edc1",
   "metadata": {},
   "source": [
    "## RFM ANALYSIS"
   ]
  },
  {
   "cell_type": "code",
   "execution_count": 107,
   "id": "690e7431-53bf-4756-87cd-6bb0973ddc4e",
   "metadata": {},
   "outputs": [],
   "source": [
    "recent_date = orders_customers_df['order_purchase_timestamp'].max()"
   ]
  },
  {
   "cell_type": "code",
   "execution_count": 108,
   "id": "93036f4b-1c0f-49c1-b0f1-07e9b3bae3b9",
   "metadata": {},
   "outputs": [],
   "source": [
    "rfm_df = orders_customers_df.groupby('customer_unique_id').agg({\n",
    "    'order_purchase_timestamp': lambda x: (recent_date - x.max()).days,  # Recency\n",
    "    'order_id': 'nunique'  # Frequency: jumlah pesanan unik (bisa juga menghitung jumlah total pesanan)\n",
    "}).reset_index()\n"
   ]
  },
  {
   "cell_type": "code",
   "execution_count": 109,
   "id": "ce7c94aa-f009-40ad-910a-1bcda5862316",
   "metadata": {},
   "outputs": [],
   "source": [
    "rfm_df.columns = ['customer_unique_id', 'recency', 'frequency']"
   ]
  },
  {
   "cell_type": "code",
   "execution_count": 102,
   "id": "1adc989e-3df8-4976-a90d-f8f2283ed820",
   "metadata": {},
   "outputs": [],
   "source": []
  },
  {
   "cell_type": "code",
   "execution_count": 111,
   "id": "055b861c-9b8e-433f-8b03-220de4d39798",
   "metadata": {},
   "outputs": [
    {
     "name": "stdout",
     "output_type": "stream",
     "text": [
      "                 customer_unique_id  recency  frequency  monetary\n",
      "0  0000366f3b9a7992bf8c76cfdf3221e2      160          1         1\n",
      "1  0000b849f77a49e4a4ce2b2a4ca5be3f      163          1         1\n",
      "2  0000f46a3911fa3c0805444483337064      585          1         1\n",
      "3  0000f6ccb0745a6a4b88665a16c9f078      369          1         1\n",
      "4  0004aac84e0df4da2b147fca70cf8255      336          1         1\n"
     ]
    }
   ],
   "source": [
    "# menghitung Monetary (M) dengan jumlah transaksi \n",
    "rfm_df['monetary'] = orders_customers_df.groupby('customer_unique_id')['order_id'].count().values\n",
    "print(rfm_df.head())"
   ]
  },
  {
   "cell_type": "code",
   "execution_count": 112,
   "id": "86ee7bc7-f597-4d70-bc83-6e555148f258",
   "metadata": {},
   "outputs": [
    {
     "name": "stdout",
     "output_type": "stream",
     "text": [
      "                 customer_unique_id  recency  frequency  monetary\n",
      "0  0000366f3b9a7992bf8c76cfdf3221e2      160          1         1\n",
      "1  0000b849f77a49e4a4ce2b2a4ca5be3f      163          1         1\n",
      "2  0000f46a3911fa3c0805444483337064      585          1         1\n",
      "3  0000f6ccb0745a6a4b88665a16c9f078      369          1         1\n",
      "4  0004aac84e0df4da2b147fca70cf8255      336          1         1\n"
     ]
    }
   ],
   "source": [
    "# Menggabungkan hasil RFM Analysis\n",
    "rfm_df = pd.merge(max_purchase_date[['customer_unique_id', 'recency']], frequency, on='customer_unique_id')\n",
    "rfm_df = pd.merge(rfm_df, monetary, on='customer_unique_id')\n",
    "print(rfm_df.head())"
   ]
  },
  {
   "cell_type": "code",
   "execution_count": 114,
   "id": "bcce58b4-7055-44cd-83c2-94e46b6f4fba",
   "metadata": {},
   "outputs": [
    {
     "data": {
      "text/html": [
       "<div>\n",
       "<style scoped>\n",
       "    .dataframe tbody tr th:only-of-type {\n",
       "        vertical-align: middle;\n",
       "    }\n",
       "\n",
       "    .dataframe tbody tr th {\n",
       "        vertical-align: top;\n",
       "    }\n",
       "\n",
       "    .dataframe thead th {\n",
       "        text-align: right;\n",
       "    }\n",
       "</style>\n",
       "<table border=\"1\" class=\"dataframe\">\n",
       "  <thead>\n",
       "    <tr style=\"text-align: right;\">\n",
       "      <th></th>\n",
       "      <th>recency</th>\n",
       "      <th>frequency</th>\n",
       "      <th>monetary</th>\n",
       "    </tr>\n",
       "  </thead>\n",
       "  <tbody>\n",
       "    <tr>\n",
       "      <th>count</th>\n",
       "      <td>96096.000000</td>\n",
       "      <td>96096.0</td>\n",
       "      <td>96096.0</td>\n",
       "    </tr>\n",
       "    <tr>\n",
       "      <th>mean</th>\n",
       "      <td>289.112648</td>\n",
       "      <td>1.0</td>\n",
       "      <td>1.0</td>\n",
       "    </tr>\n",
       "    <tr>\n",
       "      <th>std</th>\n",
       "      <td>153.614649</td>\n",
       "      <td>0.0</td>\n",
       "      <td>0.0</td>\n",
       "    </tr>\n",
       "    <tr>\n",
       "      <th>min</th>\n",
       "      <td>0.000000</td>\n",
       "      <td>1.0</td>\n",
       "      <td>1.0</td>\n",
       "    </tr>\n",
       "    <tr>\n",
       "      <th>25%</th>\n",
       "      <td>165.000000</td>\n",
       "      <td>1.0</td>\n",
       "      <td>1.0</td>\n",
       "    </tr>\n",
       "    <tr>\n",
       "      <th>50%</th>\n",
       "      <td>270.000000</td>\n",
       "      <td>1.0</td>\n",
       "      <td>1.0</td>\n",
       "    </tr>\n",
       "    <tr>\n",
       "      <th>75%</th>\n",
       "      <td>399.000000</td>\n",
       "      <td>1.0</td>\n",
       "      <td>1.0</td>\n",
       "    </tr>\n",
       "    <tr>\n",
       "      <th>max</th>\n",
       "      <td>772.000000</td>\n",
       "      <td>1.0</td>\n",
       "      <td>1.0</td>\n",
       "    </tr>\n",
       "  </tbody>\n",
       "</table>\n",
       "</div>"
      ],
      "text/plain": [
       "            recency  frequency  monetary\n",
       "count  96096.000000    96096.0   96096.0\n",
       "mean     289.112648        1.0       1.0\n",
       "std      153.614649        0.0       0.0\n",
       "min        0.000000        1.0       1.0\n",
       "25%      165.000000        1.0       1.0\n",
       "50%      270.000000        1.0       1.0\n",
       "75%      399.000000        1.0       1.0\n",
       "max      772.000000        1.0       1.0"
      ]
     },
     "execution_count": 114,
     "metadata": {},
     "output_type": "execute_result"
    }
   ],
   "source": [
    "rfm_df.describe()"
   ]
  },
  {
   "cell_type": "code",
   "execution_count": 115,
   "id": "dd095720-f75b-4e27-bd82-2eebb84a540e",
   "metadata": {},
   "outputs": [
    {
     "data": {
      "text/html": [
       "<div>\n",
       "<style scoped>\n",
       "    .dataframe tbody tr th:only-of-type {\n",
       "        vertical-align: middle;\n",
       "    }\n",
       "\n",
       "    .dataframe tbody tr th {\n",
       "        vertical-align: top;\n",
       "    }\n",
       "\n",
       "    .dataframe thead th {\n",
       "        text-align: right;\n",
       "    }\n",
       "</style>\n",
       "<table border=\"1\" class=\"dataframe\">\n",
       "  <thead>\n",
       "    <tr style=\"text-align: right;\">\n",
       "      <th></th>\n",
       "      <th>customer_unique_id</th>\n",
       "      <th>recency</th>\n",
       "      <th>frequency</th>\n",
       "      <th>monetary</th>\n",
       "    </tr>\n",
       "  </thead>\n",
       "  <tbody>\n",
       "    <tr>\n",
       "      <th>50975</th>\n",
       "      <td>87ab9fec999db8bd5774917de3cdf01c</td>\n",
       "      <td>0</td>\n",
       "      <td>1</td>\n",
       "      <td>1</td>\n",
       "    </tr>\n",
       "    <tr>\n",
       "      <th>58524</th>\n",
       "      <td>9bb92bebd4cb7511e1a02d5e50bc4655</td>\n",
       "      <td>18</td>\n",
       "      <td>1</td>\n",
       "      <td>1</td>\n",
       "    </tr>\n",
       "    <tr>\n",
       "      <th>58710</th>\n",
       "      <td>9c3af16efacb7aa06aa3bc674556c5d6</td>\n",
       "      <td>22</td>\n",
       "      <td>1</td>\n",
       "      <td>1</td>\n",
       "    </tr>\n",
       "    <tr>\n",
       "      <th>89783</th>\n",
       "      <td>ef0103e9602d12594d19c2b666219bc1</td>\n",
       "      <td>30</td>\n",
       "      <td>1</td>\n",
       "      <td>1</td>\n",
       "    </tr>\n",
       "    <tr>\n",
       "      <th>72940</th>\n",
       "      <td>c1ee153508c6b785b491443a95ff364e</td>\n",
       "      <td>34</td>\n",
       "      <td>1</td>\n",
       "      <td>1</td>\n",
       "    </tr>\n",
       "  </tbody>\n",
       "</table>\n",
       "</div>"
      ],
      "text/plain": [
       "                     customer_unique_id  recency  frequency  monetary\n",
       "50975  87ab9fec999db8bd5774917de3cdf01c        0          1         1\n",
       "58524  9bb92bebd4cb7511e1a02d5e50bc4655       18          1         1\n",
       "58710  9c3af16efacb7aa06aa3bc674556c5d6       22          1         1\n",
       "89783  ef0103e9602d12594d19c2b666219bc1       30          1         1\n",
       "72940  c1ee153508c6b785b491443a95ff364e       34          1         1"
      ]
     },
     "execution_count": 115,
     "metadata": {},
     "output_type": "execute_result"
    }
   ],
   "source": [
    "rfm_df.sort_values(by=\"recency\", ascending=True).head(5)"
   ]
  },
  {
   "cell_type": "code",
   "execution_count": 116,
   "id": "e12b600b-e5f0-44da-8cf8-ed81cb16d0cd",
   "metadata": {},
   "outputs": [
    {
     "data": {
      "text/html": [
       "<div>\n",
       "<style scoped>\n",
       "    .dataframe tbody tr th:only-of-type {\n",
       "        vertical-align: middle;\n",
       "    }\n",
       "\n",
       "    .dataframe tbody tr th {\n",
       "        vertical-align: top;\n",
       "    }\n",
       "\n",
       "    .dataframe thead th {\n",
       "        text-align: right;\n",
       "    }\n",
       "</style>\n",
       "<table border=\"1\" class=\"dataframe\">\n",
       "  <thead>\n",
       "    <tr style=\"text-align: right;\">\n",
       "      <th></th>\n",
       "      <th>customer_unique_id</th>\n",
       "      <th>recency</th>\n",
       "      <th>frequency</th>\n",
       "      <th>monetary</th>\n",
       "    </tr>\n",
       "  </thead>\n",
       "  <tbody>\n",
       "    <tr>\n",
       "      <th>96056</th>\n",
       "      <td>ffe6305176b9431a3eda3cf8904d7eb7</td>\n",
       "      <td>129</td>\n",
       "      <td>1</td>\n",
       "      <td>1</td>\n",
       "    </tr>\n",
       "    <tr>\n",
       "      <th>96057</th>\n",
       "      <td>ffe6efca3c7e6a06bad0a6a883280a93</td>\n",
       "      <td>266</td>\n",
       "      <td>1</td>\n",
       "      <td>1</td>\n",
       "    </tr>\n",
       "    <tr>\n",
       "      <th>96058</th>\n",
       "      <td>ffe76cb2f4bb39384c432d65ece67441</td>\n",
       "      <td>175</td>\n",
       "      <td>1</td>\n",
       "      <td>1</td>\n",
       "    </tr>\n",
       "    <tr>\n",
       "      <th>96059</th>\n",
       "      <td>ffe7752edcf14b5819058b1948e02f3a</td>\n",
       "      <td>490</td>\n",
       "      <td>1</td>\n",
       "      <td>1</td>\n",
       "    </tr>\n",
       "    <tr>\n",
       "      <th>96060</th>\n",
       "      <td>ffe780a8995715d9560ca10f3351710f</td>\n",
       "      <td>433</td>\n",
       "      <td>1</td>\n",
       "      <td>1</td>\n",
       "    </tr>\n",
       "  </tbody>\n",
       "</table>\n",
       "</div>"
      ],
      "text/plain": [
       "                     customer_unique_id  recency  frequency  monetary\n",
       "96056  ffe6305176b9431a3eda3cf8904d7eb7      129          1         1\n",
       "96057  ffe6efca3c7e6a06bad0a6a883280a93      266          1         1\n",
       "96058  ffe76cb2f4bb39384c432d65ece67441      175          1         1\n",
       "96059  ffe7752edcf14b5819058b1948e02f3a      490          1         1\n",
       "96060  ffe780a8995715d9560ca10f3351710f      433          1         1"
      ]
     },
     "execution_count": 116,
     "metadata": {},
     "output_type": "execute_result"
    }
   ],
   "source": [
    "rfm_df.sort_values(by=\"frequency\", ascending=False).head(5)"
   ]
  },
  {
   "cell_type": "code",
   "execution_count": 119,
   "id": "bfaee782-9b00-4c06-85d7-2f14e5ac8c67",
   "metadata": {},
   "outputs": [
    {
     "data": {
      "image/png": "[encoded data removed]",
      "text/plain": [
       "<Figure size 3000x600 with 3 Axes>"
      ]
     },
     "metadata": {},
     "output_type": "display_data"
    }
   ],
   "source": [
    "rfm_df.columns = ['customer_unique_id', 'recency', 'frequency', 'monetary']\n",
    "\n",
    "# Plotting hasil RFM analysis\n",
    "fig, ax = plt.subplots(nrows=1, ncols=3, figsize=(30, 6))\n",
    "\n",
    "# Recency Plot\n",
    "sns.barplot(y=\"recency\", x=\"customer_unique_id\", data=rfm_df.sort_values(by=\"recency\", ascending=True).head(5), ax=ax[0])\n",
    "ax[0].set_ylabel(None)\n",
    "ax[0].set_xlabel(None)\n",
    "ax[0].set_title(\"By Recency (days)\", loc=\"center\", fontsize=18)\n",
    "ax[0].tick_params(axis ='x', labelsize=15)\n",
    "\n",
    "# Frequency Plot\n",
    "sns.barplot(y=\"frequency\", x=\"customer_unique_id\", data=rfm_df.sort_values(by=\"frequency\", ascending=False).head(5), ax=ax[1])\n",
    "ax[1].set_ylabel(None)\n",
    "ax[1].set_xlabel(None)\n",
    "ax[1].set_title(\"By Frequency\", loc=\"center\", fontsize=18)\n",
    "ax[1].tick_params(axis='x', labelsize=15)\n",
    "\n",
    "# Monetary Plot\n",
    "sns.barplot(y=\"monetary\", x=\"customer_unique_id\", data=rfm_df.sort_values(by=\"monetary\", ascending=False).head(5), ax=ax[2])\n",
    "ax[2].set_ylabel(None)\n",
    "ax[2].set_xlabel(None)\n",
    "ax[2].set_title(\"By Monetary\", loc=\"center\", fontsize=18)\n",
    "ax[2].tick_params(axis='x', labelsize=15)\n",
    "\n",
    "# Judul keseluruhan\n",
    "plt.suptitle(\"Best Customer Based on RFM Parameters (customer_id)\", fontsize=20)\n",
    "plt.show()"
   ]
  },
  {
   "cell_type": "markdown",
   "id": "b5589b2f-5944-4064-a4b7-954d1f3db357",
   "metadata": {},
   "source": [
    " kita dapat menampilkan hasil dari RFM Analysis dalam bentuk tabel atau visualisasi yang informatif. "
   ]
  },
  {
   "cell_type": "markdown",
   "id": "12639d49-88bd-4f1c-bc82-927e9e9b1b7e",
   "metadata": {},
   "source": [
    "## Conclusion\n",
    "Dari analisis data, ditemukan bahwa ada variasi yang signifikan dalam rata-rata keterlambatan pengiriman antar kota. Beberapa kota menunjukkan rata-rata keterlambatan yang lebih tinggi dibandingkan yang lain. Kota-kota tertentu mungkin mengalami keterlambatan pengiriman lebih sering, yang dapat disebabkan oleh berbagai faktor, seperti infrastruktur logistik yang kurang memadai, jarak pengiriman yang lebih jauh, atau masalah dengan layanan pengiriman di kota tersebut.\n"
   ]
  },
  {
   "cell_type": "code",
   "execution_count": null,
   "id": "dc606aa8-b3d3-4603-bbf4-ec9d5a3b155c",
   "metadata": {},
   "outputs": [],
   "source": []
  }
 ],
 "metadata": {
  "kernelspec": {
   "display_name": "Python 3 (ipykernel)",
   "language": "python",
   "name": "python3"
  },
  "language_info": {
   "codemirror_mode": {
    "name": "ipython",
    "version": 3
   },
   "file_extension": ".py",
   "mimetype": "text/x-python",
   "name": "python",
   "nbconvert_exporter": "python",
   "pygments_lexer": "ipython3",
   "version": "3.11.1"
  }
 },
 "nbformat": 4,
 "nbformat_minor": 5
}
